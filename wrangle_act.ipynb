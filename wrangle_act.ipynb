{
 "cells": [
  {
   "cell_type": "markdown",
   "metadata": {
    "extensions": {
     "jupyter_dashboards": {
      "version": 1,
      "views": {
       "grid_default": {
        "col": 0,
        "height": 4,
        "hidden": false,
        "row": 0,
        "width": 4
       },
       "report_default": {
        "hidden": false
       }
      }
     }
    }
   },
   "source": [
    "# Project: Wrangling and Analyze Data"
   ]
  },
  {
   "cell_type": "markdown",
   "metadata": {},
   "source": [
    "#### Modules import"
   ]
  },
  {
   "cell_type": "code",
   "execution_count": 53,
   "metadata": {},
   "outputs": [],
   "source": [
    "import pandas as pd\n",
    "import numpy as np\n",
    "import requests as req\n",
    "import tweepy\n",
    "import json\n",
    "import re"
   ]
  },
  {
   "cell_type": "markdown",
   "metadata": {},
   "source": [
    "## Data Gathering\n",
    "\n",
    "1. Directly download the WeRateDogs Twitter archive data (twitter_archive_enhanced.csv)"
   ]
  },
  {
   "cell_type": "code",
   "execution_count": 3,
   "metadata": {
    "extensions": {
     "jupyter_dashboards": {
      "version": 1,
      "views": {
       "grid_default": {
        "hidden": true
       },
       "report_default": {
        "hidden": true
       }
      }
     }
    }
   },
   "outputs": [],
   "source": [
    "archive_twitter = pd.read_csv('twitter-archive-enhanced.csv')"
   ]
  },
  {
   "cell_type": "markdown",
   "metadata": {},
   "source": [
    "2. Use the Requests library to download the tweet image prediction (image_predictions.tsv)"
   ]
  },
  {
   "cell_type": "markdown",
   "metadata": {},
   "source": [
    "- Download the file and write it in a file"
   ]
  },
  {
   "cell_type": "code",
   "execution_count": 4,
   "metadata": {},
   "outputs": [],
   "source": [
    "URL = 'https://d17h27t6h515a5.cloudfront.net/topher/2017/August/599fd2ad_image-predictions/image-predictions.tsv'\n",
    "\n",
    "images_datas = req.get(URL)\n",
    "with open('predicted_images.tsv', 'wb') as file:\n",
    "    file.write(images_datas.content)"
   ]
  },
  {
   "cell_type": "markdown",
   "metadata": {},
   "source": [
    "- Load the file in a dataframe for easy use"
   ]
  },
  {
   "cell_type": "code",
   "execution_count": 5,
   "metadata": {},
   "outputs": [],
   "source": [
    "images_prediction_df = pd.read_csv('predicted_images.tsv', sep=\"\\t\")"
   ]
  },
  {
   "cell_type": "markdown",
   "metadata": {},
   "source": [
    "3. Use the Tweepy library to query additional data via the Twitter API (tweet_json.txt)"
   ]
  },
  {
   "cell_type": "markdown",
   "metadata": {},
   "source": [
    "- Config file loading\n",
    "As it has been asked in the directives, my secrets keys do not appear in the project, so, i have create a config json file to store all the secrets keys of my account"
   ]
  },
  {
   "cell_type": "code",
   "execution_count": 6,
   "metadata": {},
   "outputs": [],
   "source": [
    "with open ('tweepy_config.json') as file:\n",
    "    config = json.load(file)"
   ]
  },
  {
   "cell_type": "markdown",
   "metadata": {},
   "source": [
    "- Authentification"
   ]
  },
  {
   "cell_type": "code",
   "execution_count": 7,
   "metadata": {},
   "outputs": [],
   "source": [
    "auth = tweepy.OAuthHandler(config['api_key'], config['api_secret'])\n",
    "auth.set_access_token(config['access_token'], config['secret_access_token'])\n",
    "api = tweepy.API(auth, wait_on_rate_limit=True)"
   ]
  },
  {
   "cell_type": "markdown",
   "metadata": {},
   "source": [
    "- Data collect in a json file"
   ]
  },
  {
   "cell_type": "code",
   "execution_count": 9,
   "metadata": {
    "scrolled": true
   },
   "outputs": [
    {
     "name": "stdout",
     "output_type": "stream",
     "text": [
      "Error for tweet with id :888202515573088257 --- [{'code': 144, 'message': 'No status found with that ID.'}]\n",
      "Error for tweet with id :873697596434513921 --- [{'code': 144, 'message': 'No status found with that ID.'}]\n",
      "Error for tweet with id :872668790621863937 --- [{'code': 144, 'message': 'No status found with that ID.'}]\n",
      "Error for tweet with id :872261713294495745 --- [{'code': 144, 'message': 'No status found with that ID.'}]\n",
      "Error for tweet with id :869988702071779329 --- [{'code': 144, 'message': 'No status found with that ID.'}]\n",
      "Error for tweet with id :866816280283807744 --- [{'code': 144, 'message': 'No status found with that ID.'}]\n",
      "Error for tweet with id :861769973181624320 --- [{'code': 144, 'message': 'No status found with that ID.'}]\n",
      "Error for tweet with id :856602993587888130 --- [{'code': 144, 'message': 'No status found with that ID.'}]\n",
      "Error for tweet with id :856330835276025856 --- [{'code': 144, 'message': 'No status found with that ID.'}]\n",
      "Error for tweet with id :851953902622658560 --- [{'code': 144, 'message': 'No status found with that ID.'}]\n",
      "Error for tweet with id :851861385021730816 --- [{'code': 144, 'message': 'No status found with that ID.'}]\n",
      "Error for tweet with id :845459076796616705 --- [{'code': 144, 'message': 'No status found with that ID.'}]\n",
      "Error for tweet with id :844704788403113984 --- [{'code': 144, 'message': 'No status found with that ID.'}]\n",
      "Error for tweet with id :842892208864923648 --- [{'code': 144, 'message': 'No status found with that ID.'}]\n",
      "Error for tweet with id :837366284874571778 --- [{'code': 144, 'message': 'No status found with that ID.'}]\n",
      "Error for tweet with id :837012587749474308 --- [{'code': 144, 'message': 'No status found with that ID.'}]\n",
      "Error for tweet with id :829374341691346946 --- [{'code': 144, 'message': 'No status found with that ID.'}]\n",
      "Error for tweet with id :827228250799742977 --- [{'code': 144, 'message': 'No status found with that ID.'}]\n",
      "Error for tweet with id :812747805718642688 --- [{'code': 144, 'message': 'No status found with that ID.'}]\n",
      "Error for tweet with id :802247111496568832 --- [{'code': 144, 'message': 'No status found with that ID.'}]\n",
      "Error for tweet with id :779123168116150273 --- [{'code': 144, 'message': 'No status found with that ID.'}]\n",
      "Error for tweet with id :775096608509886464 --- [{'code': 144, 'message': 'No status found with that ID.'}]\n",
      "Error for tweet with id :771004394259247104 --- [{'code': 179, 'message': 'Sorry, you are not authorized to see this status.'}]\n",
      "Error for tweet with id :770743923962707968 --- [{'code': 144, 'message': 'No status found with that ID.'}]\n",
      "Error for tweet with id :766864461642756096 --- [{'code': 144, 'message': 'No status found with that ID.'}]\n",
      "Error for tweet with id :759923798737051648 --- [{'code': 144, 'message': 'No status found with that ID.'}]\n",
      "Error for tweet with id :759566828574212096 --- [{'code': 144, 'message': 'No status found with that ID.'}]\n",
      "Error for tweet with id :754011816964026368 --- [{'code': 144, 'message': 'No status found with that ID.'}]\n",
      "Error for tweet with id :680055455951884288 --- [{'code': 144, 'message': 'No status found with that ID.'}]\n"
     ]
    }
   ],
   "source": [
    "tweets_id = archive_twitter[('tweet_id')].tolist()\n",
    "\n",
    "with open('tweet_json.txt', 'w') as file:\n",
    "    for tweet_id in tweets_id :\n",
    "        try :\n",
    "            tweet = api.get_status(tweet_id, tweet_mode='extended')\n",
    "            json.dump(tweet._json, file)\n",
    "            file.write('\\n')\n",
    "        except tweepy.error.TweepError as error:\n",
    "            print(\"Error for tweet with id :%s --- %s\" % (tweet_id, error))"
   ]
  },
  {
   "cell_type": "markdown",
   "metadata": {},
   "source": [
    "- Create a dataframe for containing the useful information we want to collect : number of retweets and likes "
   ]
  },
  {
   "cell_type": "code",
   "execution_count": 10,
   "metadata": {},
   "outputs": [],
   "source": [
    "like_retweet_datas = []\n",
    "with open('tweet_json.txt') as file:\n",
    "    all_lines = file.readlines()\n",
    "\n",
    "for line in all_lines:\n",
    "    single_tweet = json.loads(line)\n",
    "    like_retweet_datas.append((single_tweet[\"id\"], single_tweet[\"favorite_count\"], single_tweet[\"retweet_count\"]))\n",
    "    \n",
    "like_retweet_df = pd.DataFrame(data= np.array(like_retweet_datas), columns = [\"tweet_id\", \"likes_count\", \"retweets_count\"])"
   ]
  },
  {
   "cell_type": "markdown",
   "metadata": {
    "extensions": {
     "jupyter_dashboards": {
      "version": 1,
      "views": {
       "grid_default": {
        "col": 4,
        "height": 4,
        "hidden": false,
        "row": 28,
        "width": 4
       },
       "report_default": {
        "hidden": false
       }
      }
     }
    }
   },
   "source": [
    "## Assessing Data\n",
    "\n",
    "### Visual Evaluation"
   ]
  },
  {
   "cell_type": "markdown",
   "metadata": {},
   "source": [
    "I have opened firstly `archive_twitter dataframe` in google sheet application\n",
    "\n",
    "By visualizing some rows i have reported somme quality problems like\n",
    "- Some tweets does not concern dogs(In the text column it can be read content like : \"we only rate dogs\", \"Please only send in dogs\", etc)\n",
    "- Some rows has name column value like a, an,the, this, actually, getting, old, all,just,the whereas in the text column , the content either contains the right name or doesn't contains any name)\n",
    "- Invalid name for Eazy-E instead of Eazy according to the content of the text where according to it, the name should be Eazy-E\n",
    "- Many missing values for puppo, pupper, floofer and doggo columns\n",
    "\n",
    "For the two others dataframes , nothing has particularly been observed"
   ]
  },
  {
   "cell_type": "markdown",
   "metadata": {},
   "source": [
    "### Programmatical Evaluation"
   ]
  },
  {
   "cell_type": "markdown",
   "metadata": {},
   "source": [
    "**`archive_twitter`** table"
   ]
  },
  {
   "cell_type": "code",
   "execution_count": 11,
   "metadata": {
    "scrolled": true
   },
   "outputs": [
    {
     "data": {
      "text/html": [
       "<div>\n",
       "<style scoped>\n",
       "    .dataframe tbody tr th:only-of-type {\n",
       "        vertical-align: middle;\n",
       "    }\n",
       "\n",
       "    .dataframe tbody tr th {\n",
       "        vertical-align: top;\n",
       "    }\n",
       "\n",
       "    .dataframe thead th {\n",
       "        text-align: right;\n",
       "    }\n",
       "</style>\n",
       "<table border=\"1\" class=\"dataframe\">\n",
       "  <thead>\n",
       "    <tr style=\"text-align: right;\">\n",
       "      <th></th>\n",
       "      <th>tweet_id</th>\n",
       "      <th>in_reply_to_status_id</th>\n",
       "      <th>in_reply_to_user_id</th>\n",
       "      <th>timestamp</th>\n",
       "      <th>source</th>\n",
       "      <th>text</th>\n",
       "      <th>retweeted_status_id</th>\n",
       "      <th>retweeted_status_user_id</th>\n",
       "      <th>retweeted_status_timestamp</th>\n",
       "      <th>expanded_urls</th>\n",
       "      <th>rating_numerator</th>\n",
       "      <th>rating_denominator</th>\n",
       "      <th>name</th>\n",
       "      <th>doggo</th>\n",
       "      <th>floofer</th>\n",
       "      <th>pupper</th>\n",
       "      <th>puppo</th>\n",
       "    </tr>\n",
       "  </thead>\n",
       "  <tbody>\n",
       "    <tr>\n",
       "      <th>706</th>\n",
       "      <td>785533386513321988</td>\n",
       "      <td>NaN</td>\n",
       "      <td>NaN</td>\n",
       "      <td>2016-10-10 17:32:08 +0000</td>\n",
       "      <td>&lt;a href=\"http://twitter.com/download/iphone\" r...</td>\n",
       "      <td>This is Dallas. Her tongue is ridiculous. 11/1...</td>\n",
       "      <td>NaN</td>\n",
       "      <td>NaN</td>\n",
       "      <td>NaN</td>\n",
       "      <td>https://twitter.com/dog_rates/status/785533386...</td>\n",
       "      <td>11</td>\n",
       "      <td>10</td>\n",
       "      <td>Dallas</td>\n",
       "      <td>None</td>\n",
       "      <td>None</td>\n",
       "      <td>None</td>\n",
       "      <td>None</td>\n",
       "    </tr>\n",
       "    <tr>\n",
       "      <th>1631</th>\n",
       "      <td>684481074559381504</td>\n",
       "      <td>NaN</td>\n",
       "      <td>NaN</td>\n",
       "      <td>2016-01-05 21:06:19 +0000</td>\n",
       "      <td>&lt;a href=\"http://twitter.com/download/iphone\" r...</td>\n",
       "      <td>Meet Pippa. She's an Elfin High Feta. Compact ...</td>\n",
       "      <td>NaN</td>\n",
       "      <td>NaN</td>\n",
       "      <td>NaN</td>\n",
       "      <td>https://twitter.com/dog_rates/status/684481074...</td>\n",
       "      <td>10</td>\n",
       "      <td>10</td>\n",
       "      <td>Pippa</td>\n",
       "      <td>None</td>\n",
       "      <td>None</td>\n",
       "      <td>None</td>\n",
       "      <td>None</td>\n",
       "    </tr>\n",
       "    <tr>\n",
       "      <th>397</th>\n",
       "      <td>825120256414846976</td>\n",
       "      <td>NaN</td>\n",
       "      <td>NaN</td>\n",
       "      <td>2017-01-27 23:16:13 +0000</td>\n",
       "      <td>&lt;a href=\"http://twitter.com/download/iphone\" r...</td>\n",
       "      <td>RT @dog_rates: Say hello to Pablo. He's one go...</td>\n",
       "      <td>8.250266e+17</td>\n",
       "      <td>4.196984e+09</td>\n",
       "      <td>2017-01-27 17:04:02 +0000</td>\n",
       "      <td>https://www.gofundme.com/my-puppys-double-cata...</td>\n",
       "      <td>12</td>\n",
       "      <td>10</td>\n",
       "      <td>Pablo</td>\n",
       "      <td>None</td>\n",
       "      <td>None</td>\n",
       "      <td>None</td>\n",
       "      <td>puppo</td>\n",
       "    </tr>\n",
       "    <tr>\n",
       "      <th>1901</th>\n",
       "      <td>674646392044941312</td>\n",
       "      <td>NaN</td>\n",
       "      <td>NaN</td>\n",
       "      <td>2015-12-09 17:46:48 +0000</td>\n",
       "      <td>&lt;a href=\"http://twitter.com/download/iphone\" r...</td>\n",
       "      <td>Two gorgeous dogs here. Little waddling dog is...</td>\n",
       "      <td>NaN</td>\n",
       "      <td>NaN</td>\n",
       "      <td>NaN</td>\n",
       "      <td>https://twitter.com/dog_rates/status/674646392...</td>\n",
       "      <td>5</td>\n",
       "      <td>10</td>\n",
       "      <td>None</td>\n",
       "      <td>None</td>\n",
       "      <td>None</td>\n",
       "      <td>None</td>\n",
       "      <td>None</td>\n",
       "    </tr>\n",
       "    <tr>\n",
       "      <th>253</th>\n",
       "      <td>844704788403113984</td>\n",
       "      <td>NaN</td>\n",
       "      <td>NaN</td>\n",
       "      <td>2017-03-23 00:18:10 +0000</td>\n",
       "      <td>&lt;a href=\"http://twitter.com/download/iphone\" r...</td>\n",
       "      <td>This is Luna. It's her first time outside and ...</td>\n",
       "      <td>NaN</td>\n",
       "      <td>NaN</td>\n",
       "      <td>NaN</td>\n",
       "      <td>https://twitter.com/dog_rates/status/844704788...</td>\n",
       "      <td>13</td>\n",
       "      <td>10</td>\n",
       "      <td>Luna</td>\n",
       "      <td>None</td>\n",
       "      <td>None</td>\n",
       "      <td>None</td>\n",
       "      <td>None</td>\n",
       "    </tr>\n",
       "    <tr>\n",
       "      <th>1698</th>\n",
       "      <td>681193455364796417</td>\n",
       "      <td>NaN</td>\n",
       "      <td>NaN</td>\n",
       "      <td>2015-12-27 19:22:30 +0000</td>\n",
       "      <td>&lt;a href=\"http://twitter.com/download/iphone\" r...</td>\n",
       "      <td>This is Aspen. He's astronomically fluffy. I w...</td>\n",
       "      <td>NaN</td>\n",
       "      <td>NaN</td>\n",
       "      <td>NaN</td>\n",
       "      <td>https://twitter.com/dog_rates/status/681193455...</td>\n",
       "      <td>11</td>\n",
       "      <td>10</td>\n",
       "      <td>Aspen</td>\n",
       "      <td>None</td>\n",
       "      <td>None</td>\n",
       "      <td>None</td>\n",
       "      <td>None</td>\n",
       "    </tr>\n",
       "    <tr>\n",
       "      <th>825</th>\n",
       "      <td>769695466921623552</td>\n",
       "      <td>NaN</td>\n",
       "      <td>NaN</td>\n",
       "      <td>2016-08-28 00:37:54 +0000</td>\n",
       "      <td>&lt;a href=\"http://twitter.com/download/iphone\" r...</td>\n",
       "      <td>This is Titan. He's trying to make friends. Of...</td>\n",
       "      <td>NaN</td>\n",
       "      <td>NaN</td>\n",
       "      <td>NaN</td>\n",
       "      <td>https://twitter.com/dog_rates/status/769695466...</td>\n",
       "      <td>13</td>\n",
       "      <td>10</td>\n",
       "      <td>Titan</td>\n",
       "      <td>None</td>\n",
       "      <td>None</td>\n",
       "      <td>None</td>\n",
       "      <td>None</td>\n",
       "    </tr>\n",
       "    <tr>\n",
       "      <th>598</th>\n",
       "      <td>798686750113755136</td>\n",
       "      <td>NaN</td>\n",
       "      <td>NaN</td>\n",
       "      <td>2016-11-16 00:38:54 +0000</td>\n",
       "      <td>&lt;a href=\"http://twitter.com/download/iphone\" r...</td>\n",
       "      <td>RT @dog_rates: Say hello to Jack (pronounced \"...</td>\n",
       "      <td>6.833919e+17</td>\n",
       "      <td>4.196984e+09</td>\n",
       "      <td>2016-01-02 20:58:09 +0000</td>\n",
       "      <td>https://twitter.com/dog_rates/status/683391852...</td>\n",
       "      <td>11</td>\n",
       "      <td>10</td>\n",
       "      <td>Jack</td>\n",
       "      <td>None</td>\n",
       "      <td>None</td>\n",
       "      <td>None</td>\n",
       "      <td>None</td>\n",
       "    </tr>\n",
       "    <tr>\n",
       "      <th>1872</th>\n",
       "      <td>675146535592706048</td>\n",
       "      <td>NaN</td>\n",
       "      <td>NaN</td>\n",
       "      <td>2015-12-11 02:54:12 +0000</td>\n",
       "      <td>&lt;a href=\"http://twitter.com/download/iphone\" r...</td>\n",
       "      <td>This is Coops. He's yelling at the carpet. Not...</td>\n",
       "      <td>NaN</td>\n",
       "      <td>NaN</td>\n",
       "      <td>NaN</td>\n",
       "      <td>https://twitter.com/dog_rates/status/675146535...</td>\n",
       "      <td>7</td>\n",
       "      <td>10</td>\n",
       "      <td>Coops</td>\n",
       "      <td>None</td>\n",
       "      <td>None</td>\n",
       "      <td>None</td>\n",
       "      <td>None</td>\n",
       "    </tr>\n",
       "    <tr>\n",
       "      <th>736</th>\n",
       "      <td>780931614150983680</td>\n",
       "      <td>NaN</td>\n",
       "      <td>NaN</td>\n",
       "      <td>2016-09-28 00:46:20 +0000</td>\n",
       "      <td>&lt;a href=\"http://twitter.com/download/iphone\" r...</td>\n",
       "      <td>I want to finally rate this iconic puppo who t...</td>\n",
       "      <td>NaN</td>\n",
       "      <td>NaN</td>\n",
       "      <td>NaN</td>\n",
       "      <td>https://twitter.com/dog_rates/status/780931614...</td>\n",
       "      <td>13</td>\n",
       "      <td>10</td>\n",
       "      <td>None</td>\n",
       "      <td>None</td>\n",
       "      <td>None</td>\n",
       "      <td>None</td>\n",
       "      <td>puppo</td>\n",
       "    </tr>\n",
       "    <tr>\n",
       "      <th>1533</th>\n",
       "      <td>689999384604450816</td>\n",
       "      <td>NaN</td>\n",
       "      <td>NaN</td>\n",
       "      <td>2016-01-21 02:34:07 +0000</td>\n",
       "      <td>&lt;a href=\"http://twitter.com/download/iphone\" r...</td>\n",
       "      <td>This is Covach. He's trying to melt the snow. ...</td>\n",
       "      <td>NaN</td>\n",
       "      <td>NaN</td>\n",
       "      <td>NaN</td>\n",
       "      <td>https://twitter.com/dog_rates/status/689999384...</td>\n",
       "      <td>10</td>\n",
       "      <td>10</td>\n",
       "      <td>Covach</td>\n",
       "      <td>None</td>\n",
       "      <td>None</td>\n",
       "      <td>None</td>\n",
       "      <td>None</td>\n",
       "    </tr>\n",
       "    <tr>\n",
       "      <th>837</th>\n",
       "      <td>767754930266464257</td>\n",
       "      <td>NaN</td>\n",
       "      <td>NaN</td>\n",
       "      <td>2016-08-22 16:06:54 +0000</td>\n",
       "      <td>&lt;a href=\"http://twitter.com/download/iphone\" r...</td>\n",
       "      <td>This is Philbert. His toilet broke and he does...</td>\n",
       "      <td>NaN</td>\n",
       "      <td>NaN</td>\n",
       "      <td>NaN</td>\n",
       "      <td>https://twitter.com/dog_rates/status/767754930...</td>\n",
       "      <td>11</td>\n",
       "      <td>10</td>\n",
       "      <td>Philbert</td>\n",
       "      <td>None</td>\n",
       "      <td>None</td>\n",
       "      <td>None</td>\n",
       "      <td>None</td>\n",
       "    </tr>\n",
       "    <tr>\n",
       "      <th>1355</th>\n",
       "      <td>703611486317502464</td>\n",
       "      <td>NaN</td>\n",
       "      <td>NaN</td>\n",
       "      <td>2016-02-27 16:03:45 +0000</td>\n",
       "      <td>&lt;a href=\"http://twitter.com/download/iphone\" r...</td>\n",
       "      <td>Meet Scooter. He's experiencing the pupper equ...</td>\n",
       "      <td>NaN</td>\n",
       "      <td>NaN</td>\n",
       "      <td>NaN</td>\n",
       "      <td>https://twitter.com/dog_rates/status/703611486...</td>\n",
       "      <td>10</td>\n",
       "      <td>10</td>\n",
       "      <td>Scooter</td>\n",
       "      <td>None</td>\n",
       "      <td>None</td>\n",
       "      <td>pupper</td>\n",
       "      <td>None</td>\n",
       "    </tr>\n",
       "    <tr>\n",
       "      <th>328</th>\n",
       "      <td>833722901757046785</td>\n",
       "      <td>NaN</td>\n",
       "      <td>NaN</td>\n",
       "      <td>2017-02-20 17:00:04 +0000</td>\n",
       "      <td>&lt;a href=\"http://twitter.com/download/iphone\" r...</td>\n",
       "      <td>This is Bronte. She's fairly h*ckin aerodynami...</td>\n",
       "      <td>NaN</td>\n",
       "      <td>NaN</td>\n",
       "      <td>NaN</td>\n",
       "      <td>https://twitter.com/dog_rates/status/833722901...</td>\n",
       "      <td>13</td>\n",
       "      <td>10</td>\n",
       "      <td>Bronte</td>\n",
       "      <td>None</td>\n",
       "      <td>None</td>\n",
       "      <td>None</td>\n",
       "      <td>None</td>\n",
       "    </tr>\n",
       "    <tr>\n",
       "      <th>322</th>\n",
       "      <td>834167344700198914</td>\n",
       "      <td>NaN</td>\n",
       "      <td>NaN</td>\n",
       "      <td>2017-02-21 22:26:07 +0000</td>\n",
       "      <td>&lt;a href=\"http://twitter.com/download/iphone\" r...</td>\n",
       "      <td>This is Sunshine. She doesn't believe in perso...</td>\n",
       "      <td>NaN</td>\n",
       "      <td>NaN</td>\n",
       "      <td>NaN</td>\n",
       "      <td>https://twitter.com/dog_rates/status/834167344...</td>\n",
       "      <td>11</td>\n",
       "      <td>10</td>\n",
       "      <td>Sunshine</td>\n",
       "      <td>None</td>\n",
       "      <td>None</td>\n",
       "      <td>None</td>\n",
       "      <td>None</td>\n",
       "    </tr>\n",
       "    <tr>\n",
       "      <th>1521</th>\n",
       "      <td>690690673629138944</td>\n",
       "      <td>NaN</td>\n",
       "      <td>NaN</td>\n",
       "      <td>2016-01-23 00:21:03 +0000</td>\n",
       "      <td>&lt;a href=\"http://twitter.com/download/iphone\" r...</td>\n",
       "      <td>This is Cedrick. He's a spookster. Did me a di...</td>\n",
       "      <td>NaN</td>\n",
       "      <td>NaN</td>\n",
       "      <td>NaN</td>\n",
       "      <td>https://twitter.com/dog_rates/status/690690673...</td>\n",
       "      <td>10</td>\n",
       "      <td>10</td>\n",
       "      <td>Cedrick</td>\n",
       "      <td>None</td>\n",
       "      <td>None</td>\n",
       "      <td>None</td>\n",
       "      <td>None</td>\n",
       "    </tr>\n",
       "    <tr>\n",
       "      <th>70</th>\n",
       "      <td>879008229531029506</td>\n",
       "      <td>NaN</td>\n",
       "      <td>NaN</td>\n",
       "      <td>2017-06-25 16:07:47 +0000</td>\n",
       "      <td>&lt;a href=\"http://twitter.com/download/iphone\" r...</td>\n",
       "      <td>This is Beau. That is Beau's balloon. He takes...</td>\n",
       "      <td>NaN</td>\n",
       "      <td>NaN</td>\n",
       "      <td>NaN</td>\n",
       "      <td>https://twitter.com/dog_rates/status/879008229...</td>\n",
       "      <td>13</td>\n",
       "      <td>10</td>\n",
       "      <td>Beau</td>\n",
       "      <td>None</td>\n",
       "      <td>None</td>\n",
       "      <td>None</td>\n",
       "      <td>None</td>\n",
       "    </tr>\n",
       "    <tr>\n",
       "      <th>38</th>\n",
       "      <td>884925521741709313</td>\n",
       "      <td>NaN</td>\n",
       "      <td>NaN</td>\n",
       "      <td>2017-07-12 00:01:00 +0000</td>\n",
       "      <td>&lt;a href=\"http://twitter.com/download/iphone\" r...</td>\n",
       "      <td>This is Earl. He found a hat. Nervous about wh...</td>\n",
       "      <td>NaN</td>\n",
       "      <td>NaN</td>\n",
       "      <td>NaN</td>\n",
       "      <td>https://twitter.com/dog_rates/status/884925521...</td>\n",
       "      <td>12</td>\n",
       "      <td>10</td>\n",
       "      <td>Earl</td>\n",
       "      <td>None</td>\n",
       "      <td>None</td>\n",
       "      <td>None</td>\n",
       "      <td>None</td>\n",
       "    </tr>\n",
       "    <tr>\n",
       "      <th>111</th>\n",
       "      <td>871032628920680449</td>\n",
       "      <td>NaN</td>\n",
       "      <td>NaN</td>\n",
       "      <td>2017-06-03 15:55:36 +0000</td>\n",
       "      <td>&lt;a href=\"http://twitter.com/download/iphone\" r...</td>\n",
       "      <td>This is Boomer. He's doing an advanced water t...</td>\n",
       "      <td>NaN</td>\n",
       "      <td>NaN</td>\n",
       "      <td>NaN</td>\n",
       "      <td>https://twitter.com/dog_rates/status/871032628...</td>\n",
       "      <td>13</td>\n",
       "      <td>10</td>\n",
       "      <td>Boomer</td>\n",
       "      <td>None</td>\n",
       "      <td>None</td>\n",
       "      <td>None</td>\n",
       "      <td>None</td>\n",
       "    </tr>\n",
       "    <tr>\n",
       "      <th>1798</th>\n",
       "      <td>677228873407442944</td>\n",
       "      <td>NaN</td>\n",
       "      <td>NaN</td>\n",
       "      <td>2015-12-16 20:48:40 +0000</td>\n",
       "      <td>&lt;a href=\"http://twitter.com/download/iphone\" r...</td>\n",
       "      <td>Say hello to Chuq. He just wants to fit in. 11...</td>\n",
       "      <td>NaN</td>\n",
       "      <td>NaN</td>\n",
       "      <td>NaN</td>\n",
       "      <td>https://twitter.com/dog_rates/status/677228873...</td>\n",
       "      <td>11</td>\n",
       "      <td>10</td>\n",
       "      <td>Chuq</td>\n",
       "      <td>None</td>\n",
       "      <td>None</td>\n",
       "      <td>None</td>\n",
       "      <td>None</td>\n",
       "    </tr>\n",
       "  </tbody>\n",
       "</table>\n",
       "</div>"
      ],
      "text/plain": [
       "                tweet_id  in_reply_to_status_id  in_reply_to_user_id  \\\n",
       "706   785533386513321988                    NaN                  NaN   \n",
       "1631  684481074559381504                    NaN                  NaN   \n",
       "397   825120256414846976                    NaN                  NaN   \n",
       "1901  674646392044941312                    NaN                  NaN   \n",
       "253   844704788403113984                    NaN                  NaN   \n",
       "1698  681193455364796417                    NaN                  NaN   \n",
       "825   769695466921623552                    NaN                  NaN   \n",
       "598   798686750113755136                    NaN                  NaN   \n",
       "1872  675146535592706048                    NaN                  NaN   \n",
       "736   780931614150983680                    NaN                  NaN   \n",
       "1533  689999384604450816                    NaN                  NaN   \n",
       "837   767754930266464257                    NaN                  NaN   \n",
       "1355  703611486317502464                    NaN                  NaN   \n",
       "328   833722901757046785                    NaN                  NaN   \n",
       "322   834167344700198914                    NaN                  NaN   \n",
       "1521  690690673629138944                    NaN                  NaN   \n",
       "70    879008229531029506                    NaN                  NaN   \n",
       "38    884925521741709313                    NaN                  NaN   \n",
       "111   871032628920680449                    NaN                  NaN   \n",
       "1798  677228873407442944                    NaN                  NaN   \n",
       "\n",
       "                      timestamp  \\\n",
       "706   2016-10-10 17:32:08 +0000   \n",
       "1631  2016-01-05 21:06:19 +0000   \n",
       "397   2017-01-27 23:16:13 +0000   \n",
       "1901  2015-12-09 17:46:48 +0000   \n",
       "253   2017-03-23 00:18:10 +0000   \n",
       "1698  2015-12-27 19:22:30 +0000   \n",
       "825   2016-08-28 00:37:54 +0000   \n",
       "598   2016-11-16 00:38:54 +0000   \n",
       "1872  2015-12-11 02:54:12 +0000   \n",
       "736   2016-09-28 00:46:20 +0000   \n",
       "1533  2016-01-21 02:34:07 +0000   \n",
       "837   2016-08-22 16:06:54 +0000   \n",
       "1355  2016-02-27 16:03:45 +0000   \n",
       "328   2017-02-20 17:00:04 +0000   \n",
       "322   2017-02-21 22:26:07 +0000   \n",
       "1521  2016-01-23 00:21:03 +0000   \n",
       "70    2017-06-25 16:07:47 +0000   \n",
       "38    2017-07-12 00:01:00 +0000   \n",
       "111   2017-06-03 15:55:36 +0000   \n",
       "1798  2015-12-16 20:48:40 +0000   \n",
       "\n",
       "                                                 source  \\\n",
       "706   <a href=\"http://twitter.com/download/iphone\" r...   \n",
       "1631  <a href=\"http://twitter.com/download/iphone\" r...   \n",
       "397   <a href=\"http://twitter.com/download/iphone\" r...   \n",
       "1901  <a href=\"http://twitter.com/download/iphone\" r...   \n",
       "253   <a href=\"http://twitter.com/download/iphone\" r...   \n",
       "1698  <a href=\"http://twitter.com/download/iphone\" r...   \n",
       "825   <a href=\"http://twitter.com/download/iphone\" r...   \n",
       "598   <a href=\"http://twitter.com/download/iphone\" r...   \n",
       "1872  <a href=\"http://twitter.com/download/iphone\" r...   \n",
       "736   <a href=\"http://twitter.com/download/iphone\" r...   \n",
       "1533  <a href=\"http://twitter.com/download/iphone\" r...   \n",
       "837   <a href=\"http://twitter.com/download/iphone\" r...   \n",
       "1355  <a href=\"http://twitter.com/download/iphone\" r...   \n",
       "328   <a href=\"http://twitter.com/download/iphone\" r...   \n",
       "322   <a href=\"http://twitter.com/download/iphone\" r...   \n",
       "1521  <a href=\"http://twitter.com/download/iphone\" r...   \n",
       "70    <a href=\"http://twitter.com/download/iphone\" r...   \n",
       "38    <a href=\"http://twitter.com/download/iphone\" r...   \n",
       "111   <a href=\"http://twitter.com/download/iphone\" r...   \n",
       "1798  <a href=\"http://twitter.com/download/iphone\" r...   \n",
       "\n",
       "                                                   text  retweeted_status_id  \\\n",
       "706   This is Dallas. Her tongue is ridiculous. 11/1...                  NaN   \n",
       "1631  Meet Pippa. She's an Elfin High Feta. Compact ...                  NaN   \n",
       "397   RT @dog_rates: Say hello to Pablo. He's one go...         8.250266e+17   \n",
       "1901  Two gorgeous dogs here. Little waddling dog is...                  NaN   \n",
       "253   This is Luna. It's her first time outside and ...                  NaN   \n",
       "1698  This is Aspen. He's astronomically fluffy. I w...                  NaN   \n",
       "825   This is Titan. He's trying to make friends. Of...                  NaN   \n",
       "598   RT @dog_rates: Say hello to Jack (pronounced \"...         6.833919e+17   \n",
       "1872  This is Coops. He's yelling at the carpet. Not...                  NaN   \n",
       "736   I want to finally rate this iconic puppo who t...                  NaN   \n",
       "1533  This is Covach. He's trying to melt the snow. ...                  NaN   \n",
       "837   This is Philbert. His toilet broke and he does...                  NaN   \n",
       "1355  Meet Scooter. He's experiencing the pupper equ...                  NaN   \n",
       "328   This is Bronte. She's fairly h*ckin aerodynami...                  NaN   \n",
       "322   This is Sunshine. She doesn't believe in perso...                  NaN   \n",
       "1521  This is Cedrick. He's a spookster. Did me a di...                  NaN   \n",
       "70    This is Beau. That is Beau's balloon. He takes...                  NaN   \n",
       "38    This is Earl. He found a hat. Nervous about wh...                  NaN   \n",
       "111   This is Boomer. He's doing an advanced water t...                  NaN   \n",
       "1798  Say hello to Chuq. He just wants to fit in. 11...                  NaN   \n",
       "\n",
       "      retweeted_status_user_id retweeted_status_timestamp  \\\n",
       "706                        NaN                        NaN   \n",
       "1631                       NaN                        NaN   \n",
       "397               4.196984e+09  2017-01-27 17:04:02 +0000   \n",
       "1901                       NaN                        NaN   \n",
       "253                        NaN                        NaN   \n",
       "1698                       NaN                        NaN   \n",
       "825                        NaN                        NaN   \n",
       "598               4.196984e+09  2016-01-02 20:58:09 +0000   \n",
       "1872                       NaN                        NaN   \n",
       "736                        NaN                        NaN   \n",
       "1533                       NaN                        NaN   \n",
       "837                        NaN                        NaN   \n",
       "1355                       NaN                        NaN   \n",
       "328                        NaN                        NaN   \n",
       "322                        NaN                        NaN   \n",
       "1521                       NaN                        NaN   \n",
       "70                         NaN                        NaN   \n",
       "38                         NaN                        NaN   \n",
       "111                        NaN                        NaN   \n",
       "1798                       NaN                        NaN   \n",
       "\n",
       "                                          expanded_urls  rating_numerator  \\\n",
       "706   https://twitter.com/dog_rates/status/785533386...                11   \n",
       "1631  https://twitter.com/dog_rates/status/684481074...                10   \n",
       "397   https://www.gofundme.com/my-puppys-double-cata...                12   \n",
       "1901  https://twitter.com/dog_rates/status/674646392...                 5   \n",
       "253   https://twitter.com/dog_rates/status/844704788...                13   \n",
       "1698  https://twitter.com/dog_rates/status/681193455...                11   \n",
       "825   https://twitter.com/dog_rates/status/769695466...                13   \n",
       "598   https://twitter.com/dog_rates/status/683391852...                11   \n",
       "1872  https://twitter.com/dog_rates/status/675146535...                 7   \n",
       "736   https://twitter.com/dog_rates/status/780931614...                13   \n",
       "1533  https://twitter.com/dog_rates/status/689999384...                10   \n",
       "837   https://twitter.com/dog_rates/status/767754930...                11   \n",
       "1355  https://twitter.com/dog_rates/status/703611486...                10   \n",
       "328   https://twitter.com/dog_rates/status/833722901...                13   \n",
       "322   https://twitter.com/dog_rates/status/834167344...                11   \n",
       "1521  https://twitter.com/dog_rates/status/690690673...                10   \n",
       "70    https://twitter.com/dog_rates/status/879008229...                13   \n",
       "38    https://twitter.com/dog_rates/status/884925521...                12   \n",
       "111   https://twitter.com/dog_rates/status/871032628...                13   \n",
       "1798  https://twitter.com/dog_rates/status/677228873...                11   \n",
       "\n",
       "      rating_denominator      name doggo floofer  pupper  puppo  \n",
       "706                   10    Dallas  None    None    None   None  \n",
       "1631                  10     Pippa  None    None    None   None  \n",
       "397                   10     Pablo  None    None    None  puppo  \n",
       "1901                  10      None  None    None    None   None  \n",
       "253                   10      Luna  None    None    None   None  \n",
       "1698                  10     Aspen  None    None    None   None  \n",
       "825                   10     Titan  None    None    None   None  \n",
       "598                   10      Jack  None    None    None   None  \n",
       "1872                  10     Coops  None    None    None   None  \n",
       "736                   10      None  None    None    None  puppo  \n",
       "1533                  10    Covach  None    None    None   None  \n",
       "837                   10  Philbert  None    None    None   None  \n",
       "1355                  10   Scooter  None    None  pupper   None  \n",
       "328                   10    Bronte  None    None    None   None  \n",
       "322                   10  Sunshine  None    None    None   None  \n",
       "1521                  10   Cedrick  None    None    None   None  \n",
       "70                    10      Beau  None    None    None   None  \n",
       "38                    10      Earl  None    None    None   None  \n",
       "111                   10    Boomer  None    None    None   None  \n",
       "1798                  10      Chuq  None    None    None   None  "
      ]
     },
     "execution_count": 11,
     "metadata": {},
     "output_type": "execute_result"
    }
   ],
   "source": [
    "archive_twitter.sample(20)"
   ]
  },
  {
   "cell_type": "markdown",
   "metadata": {},
   "source": [
    "- Columns `doggo`, `floofer`, `pupper`, `puppo` represents rather a column value. It can be named dog_stage. This is tidiness issue\n",
    "- The retweets are tweets where retweeted_status_id is not null : It represents a quality problem and it has already been asked to just take into account only tweets\n",
    "- Some columns will be useless for analysis : their values represents low data quality (for example : in_reply_to_status_id, in_reply_to_user_id, source, retweeted_status_id , retweeted_status_user_id, retweeted_status_timestamp after deleting all retweet....)"
   ]
  },
  {
   "cell_type": "code",
   "execution_count": 12,
   "metadata": {},
   "outputs": [
    {
     "data": {
      "text/plain": [
       "(2356, 17)"
      ]
     },
     "execution_count": 12,
     "metadata": {},
     "output_type": "execute_result"
    }
   ],
   "source": [
    "archive_twitter.shape"
   ]
  },
  {
   "cell_type": "markdown",
   "metadata": {},
   "source": [
    "- Some values are missing : It is certainly dued to the fact that a first clean has already been made : It won't be take into account here then"
   ]
  },
  {
   "cell_type": "code",
   "execution_count": 13,
   "metadata": {},
   "outputs": [
    {
     "name": "stdout",
     "output_type": "stream",
     "text": [
      "<class 'pandas.core.frame.DataFrame'>\n",
      "RangeIndex: 2356 entries, 0 to 2355\n",
      "Data columns (total 17 columns):\n",
      "tweet_id                      2356 non-null int64\n",
      "in_reply_to_status_id         78 non-null float64\n",
      "in_reply_to_user_id           78 non-null float64\n",
      "timestamp                     2356 non-null object\n",
      "source                        2356 non-null object\n",
      "text                          2356 non-null object\n",
      "retweeted_status_id           181 non-null float64\n",
      "retweeted_status_user_id      181 non-null float64\n",
      "retweeted_status_timestamp    181 non-null object\n",
      "expanded_urls                 2297 non-null object\n",
      "rating_numerator              2356 non-null int64\n",
      "rating_denominator            2356 non-null int64\n",
      "name                          2356 non-null object\n",
      "doggo                         2356 non-null object\n",
      "floofer                       2356 non-null object\n",
      "pupper                        2356 non-null object\n",
      "puppo                         2356 non-null object\n",
      "dtypes: float64(4), int64(3), object(10)\n",
      "memory usage: 313.0+ KB\n"
     ]
    }
   ],
   "source": [
    "archive_twitter.info()"
   ]
  },
  {
   "cell_type": "markdown",
   "metadata": {},
   "source": [
    "- Timestamp column has wrong datatypes"
   ]
  },
  {
   "cell_type": "code",
   "execution_count": 14,
   "metadata": {},
   "outputs": [
    {
     "data": {
      "text/html": [
       "<div>\n",
       "<style scoped>\n",
       "    .dataframe tbody tr th:only-of-type {\n",
       "        vertical-align: middle;\n",
       "    }\n",
       "\n",
       "    .dataframe tbody tr th {\n",
       "        vertical-align: top;\n",
       "    }\n",
       "\n",
       "    .dataframe thead th {\n",
       "        text-align: right;\n",
       "    }\n",
       "</style>\n",
       "<table border=\"1\" class=\"dataframe\">\n",
       "  <thead>\n",
       "    <tr style=\"text-align: right;\">\n",
       "      <th></th>\n",
       "      <th>tweet_id</th>\n",
       "      <th>in_reply_to_status_id</th>\n",
       "      <th>in_reply_to_user_id</th>\n",
       "      <th>timestamp</th>\n",
       "      <th>source</th>\n",
       "      <th>text</th>\n",
       "      <th>retweeted_status_id</th>\n",
       "      <th>retweeted_status_user_id</th>\n",
       "      <th>retweeted_status_timestamp</th>\n",
       "      <th>expanded_urls</th>\n",
       "      <th>rating_numerator</th>\n",
       "      <th>rating_denominator</th>\n",
       "      <th>name</th>\n",
       "      <th>doggo</th>\n",
       "      <th>floofer</th>\n",
       "      <th>pupper</th>\n",
       "      <th>puppo</th>\n",
       "    </tr>\n",
       "  </thead>\n",
       "  <tbody>\n",
       "  </tbody>\n",
       "</table>\n",
       "</div>"
      ],
      "text/plain": [
       "Empty DataFrame\n",
       "Columns: [tweet_id, in_reply_to_status_id, in_reply_to_user_id, timestamp, source, text, retweeted_status_id, retweeted_status_user_id, retweeted_status_timestamp, expanded_urls, rating_numerator, rating_denominator, name, doggo, floofer, pupper, puppo]\n",
       "Index: []"
      ]
     },
     "execution_count": 14,
     "metadata": {},
     "output_type": "execute_result"
    }
   ],
   "source": [
    "archive_twitter[archive_twitter.tweet_id.duplicated()]"
   ]
  },
  {
   "cell_type": "markdown",
   "metadata": {},
   "source": [
    "- No record duplicated"
   ]
  },
  {
   "cell_type": "code",
   "execution_count": 15,
   "metadata": {
    "scrolled": true
   },
   "outputs": [
    {
     "data": {
      "text/plain": [
       "None            745\n",
       "a                55\n",
       "Charlie          12\n",
       "Lucy             11\n",
       "Cooper           11\n",
       "Oliver           11\n",
       "Tucker           10\n",
       "Lola             10\n",
       "Penny            10\n",
       "Winston           9\n",
       "Bo                9\n",
       "Sadie             8\n",
       "the               8\n",
       "an                7\n",
       "Bailey            7\n",
       "Daisy             7\n",
       "Toby              7\n",
       "Buddy             7\n",
       "Bella             6\n",
       "Jax               6\n",
       "Stanley           6\n",
       "Jack              6\n",
       "Milo              6\n",
       "Oscar             6\n",
       "Rusty             6\n",
       "Leo               6\n",
       "Koda              6\n",
       "Scout             6\n",
       "Dave              6\n",
       "very              5\n",
       "               ... \n",
       "Jangle            1\n",
       "Glenn             1\n",
       "Alexanderson      1\n",
       "Carper            1\n",
       "Cermet            1\n",
       "Cupid             1\n",
       "Snicku            1\n",
       "Patch             1\n",
       "Aiden             1\n",
       "Anna              1\n",
       "Halo              1\n",
       "Lolo              1\n",
       "Hector            1\n",
       "Rey               1\n",
       "Link              1\n",
       "Tupawc            1\n",
       "Kingsley          1\n",
       "Claude            1\n",
       "Shikha            1\n",
       "Severus           1\n",
       "Devón             1\n",
       "Samsom            1\n",
       "Charleson         1\n",
       "Divine            1\n",
       "Lenox             1\n",
       "Jersey            1\n",
       "Jiminus           1\n",
       "Henry             1\n",
       "Dex               1\n",
       "Clarkus           1\n",
       "Name: name, Length: 957, dtype: int64"
      ]
     },
     "execution_count": 15,
     "metadata": {},
     "output_type": "execute_result"
    }
   ],
   "source": [
    "archive_twitter[\"name\"].value_counts()"
   ]
  },
  {
   "cell_type": "markdown",
   "metadata": {},
   "source": [
    "- It confirms our visualisation : Some name values are incorrect"
   ]
  },
  {
   "cell_type": "code",
   "execution_count": 16,
   "metadata": {
    "scrolled": true
   },
   "outputs": [
    {
     "data": {
      "text/plain": [
       "12      558\n",
       "11      464\n",
       "10      461\n",
       "13      351\n",
       "9       158\n",
       "8       102\n",
       "7        55\n",
       "14       54\n",
       "5        37\n",
       "6        32\n",
       "3        19\n",
       "4        17\n",
       "1         9\n",
       "2         9\n",
       "420       2\n",
       "0         2\n",
       "15        2\n",
       "75        2\n",
       "80        1\n",
       "20        1\n",
       "24        1\n",
       "26        1\n",
       "44        1\n",
       "50        1\n",
       "60        1\n",
       "165       1\n",
       "84        1\n",
       "88        1\n",
       "144       1\n",
       "182       1\n",
       "143       1\n",
       "666       1\n",
       "960       1\n",
       "1776      1\n",
       "17        1\n",
       "27        1\n",
       "45        1\n",
       "99        1\n",
       "121       1\n",
       "204       1\n",
       "Name: rating_numerator, dtype: int64"
      ]
     },
     "execution_count": 16,
     "metadata": {},
     "output_type": "execute_result"
    }
   ],
   "source": [
    "archive_twitter[\"rating_numerator\"].value_counts()"
   ]
  },
  {
   "cell_type": "markdown",
   "metadata": {},
   "source": [
    "- Some values are extreme"
   ]
  },
  {
   "cell_type": "code",
   "execution_count": 17,
   "metadata": {
    "scrolled": true
   },
   "outputs": [
    {
     "data": {
      "text/plain": [
       "10     2333\n",
       "11        3\n",
       "50        3\n",
       "80        2\n",
       "20        2\n",
       "2         1\n",
       "16        1\n",
       "40        1\n",
       "70        1\n",
       "15        1\n",
       "90        1\n",
       "110       1\n",
       "120       1\n",
       "130       1\n",
       "150       1\n",
       "170       1\n",
       "7         1\n",
       "0         1\n",
       "Name: rating_denominator, dtype: int64"
      ]
     },
     "execution_count": 17,
     "metadata": {},
     "output_type": "execute_result"
    }
   ],
   "source": [
    "archive_twitter[\"rating_denominator\"].value_counts()"
   ]
  },
  {
   "cell_type": "markdown",
   "metadata": {},
   "source": [
    "- Some rating_denominator values are incoherent regarding the value of the most "
   ]
  },
  {
   "cell_type": "markdown",
   "metadata": {},
   "source": [
    "**`like_retweet_df`** table"
   ]
  },
  {
   "cell_type": "code",
   "execution_count": 20,
   "metadata": {},
   "outputs": [
    {
     "data": {
      "text/html": [
       "<div>\n",
       "<style scoped>\n",
       "    .dataframe tbody tr th:only-of-type {\n",
       "        vertical-align: middle;\n",
       "    }\n",
       "\n",
       "    .dataframe tbody tr th {\n",
       "        vertical-align: top;\n",
       "    }\n",
       "\n",
       "    .dataframe thead th {\n",
       "        text-align: right;\n",
       "    }\n",
       "</style>\n",
       "<table border=\"1\" class=\"dataframe\">\n",
       "  <thead>\n",
       "    <tr style=\"text-align: right;\">\n",
       "      <th></th>\n",
       "      <th>tweet_id</th>\n",
       "      <th>likes_count</th>\n",
       "      <th>retweets_count</th>\n",
       "    </tr>\n",
       "  </thead>\n",
       "  <tbody>\n",
       "    <tr>\n",
       "      <th>1496</th>\n",
       "      <td>690597161306841088</td>\n",
       "      <td>1780</td>\n",
       "      <td>546</td>\n",
       "    </tr>\n",
       "    <tr>\n",
       "      <th>1123</th>\n",
       "      <td>725842289046749185</td>\n",
       "      <td>6515</td>\n",
       "      <td>2410</td>\n",
       "    </tr>\n",
       "    <tr>\n",
       "      <th>1598</th>\n",
       "      <td>684800227459624960</td>\n",
       "      <td>2512</td>\n",
       "      <td>899</td>\n",
       "    </tr>\n",
       "    <tr>\n",
       "      <th>1681</th>\n",
       "      <td>680609293079592961</td>\n",
       "      <td>2408</td>\n",
       "      <td>622</td>\n",
       "    </tr>\n",
       "    <tr>\n",
       "      <th>1037</th>\n",
       "      <td>740711788199743490</td>\n",
       "      <td>3140</td>\n",
       "      <td>858</td>\n",
       "    </tr>\n",
       "    <tr>\n",
       "      <th>2325</th>\n",
       "      <td>666029285002620928</td>\n",
       "      <td>112</td>\n",
       "      <td>39</td>\n",
       "    </tr>\n",
       "    <tr>\n",
       "      <th>2028</th>\n",
       "      <td>671355857343524864</td>\n",
       "      <td>418</td>\n",
       "      <td>104</td>\n",
       "    </tr>\n",
       "    <tr>\n",
       "      <th>948</th>\n",
       "      <td>750026558547456000</td>\n",
       "      <td>2519</td>\n",
       "      <td>717</td>\n",
       "    </tr>\n",
       "    <tr>\n",
       "      <th>49</th>\n",
       "      <td>882627270321602560</td>\n",
       "      <td>24529</td>\n",
       "      <td>5042</td>\n",
       "    </tr>\n",
       "    <tr>\n",
       "      <th>1641</th>\n",
       "      <td>682429480204398592</td>\n",
       "      <td>3175</td>\n",
       "      <td>1042</td>\n",
       "    </tr>\n",
       "  </tbody>\n",
       "</table>\n",
       "</div>"
      ],
      "text/plain": [
       "                tweet_id  likes_count  retweets_count\n",
       "1496  690597161306841088         1780             546\n",
       "1123  725842289046749185         6515            2410\n",
       "1598  684800227459624960         2512             899\n",
       "1681  680609293079592961         2408             622\n",
       "1037  740711788199743490         3140             858\n",
       "2325  666029285002620928          112              39\n",
       "2028  671355857343524864          418             104\n",
       "948   750026558547456000         2519             717\n",
       "49    882627270321602560        24529            5042\n",
       "1641  682429480204398592         3175            1042"
      ]
     },
     "execution_count": 20,
     "metadata": {},
     "output_type": "execute_result"
    }
   ],
   "source": [
    "like_retweet_df.sample(10)"
   ]
  },
  {
   "cell_type": "code",
   "execution_count": 21,
   "metadata": {},
   "outputs": [
    {
     "name": "stdout",
     "output_type": "stream",
     "text": [
      "<class 'pandas.core.frame.DataFrame'>\n",
      "RangeIndex: 2327 entries, 0 to 2326\n",
      "Data columns (total 3 columns):\n",
      "tweet_id          2327 non-null int64\n",
      "likes_count       2327 non-null int64\n",
      "retweets_count    2327 non-null int64\n",
      "dtypes: int64(3)\n",
      "memory usage: 54.6 KB\n"
     ]
    }
   ],
   "source": [
    "like_retweet_df.info()"
   ]
  },
  {
   "cell_type": "code",
   "execution_count": 23,
   "metadata": {},
   "outputs": [
    {
     "data": {
      "text/plain": [
       "(2327, 3)"
      ]
     },
     "execution_count": 23,
     "metadata": {},
     "output_type": "execute_result"
    }
   ],
   "source": [
    "like_retweet_df.shape"
   ]
  },
  {
   "cell_type": "code",
   "execution_count": 24,
   "metadata": {},
   "outputs": [
    {
     "data": {
      "text/html": [
       "<div>\n",
       "<style scoped>\n",
       "    .dataframe tbody tr th:only-of-type {\n",
       "        vertical-align: middle;\n",
       "    }\n",
       "\n",
       "    .dataframe tbody tr th {\n",
       "        vertical-align: top;\n",
       "    }\n",
       "\n",
       "    .dataframe thead th {\n",
       "        text-align: right;\n",
       "    }\n",
       "</style>\n",
       "<table border=\"1\" class=\"dataframe\">\n",
       "  <thead>\n",
       "    <tr style=\"text-align: right;\">\n",
       "      <th></th>\n",
       "      <th>tweet_id</th>\n",
       "      <th>likes_count</th>\n",
       "      <th>retweets_count</th>\n",
       "    </tr>\n",
       "  </thead>\n",
       "  <tbody>\n",
       "  </tbody>\n",
       "</table>\n",
       "</div>"
      ],
      "text/plain": [
       "Empty DataFrame\n",
       "Columns: [tweet_id, likes_count, retweets_count]\n",
       "Index: []"
      ]
     },
     "execution_count": 24,
     "metadata": {},
     "output_type": "execute_result"
    }
   ],
   "source": [
    "like_retweet_df[like_retweet_df.duplicated()]"
   ]
  },
  {
   "cell_type": "markdown",
   "metadata": {},
   "source": [
    "- No null and duplicated values"
   ]
  },
  {
   "cell_type": "code",
   "execution_count": 25,
   "metadata": {},
   "outputs": [
    {
     "data": {
      "text/html": [
       "<div>\n",
       "<style scoped>\n",
       "    .dataframe tbody tr th:only-of-type {\n",
       "        vertical-align: middle;\n",
       "    }\n",
       "\n",
       "    .dataframe tbody tr th {\n",
       "        vertical-align: top;\n",
       "    }\n",
       "\n",
       "    .dataframe thead th {\n",
       "        text-align: right;\n",
       "    }\n",
       "</style>\n",
       "<table border=\"1\" class=\"dataframe\">\n",
       "  <thead>\n",
       "    <tr style=\"text-align: right;\">\n",
       "      <th></th>\n",
       "      <th>tweet_id</th>\n",
       "      <th>likes_count</th>\n",
       "      <th>retweets_count</th>\n",
       "    </tr>\n",
       "  </thead>\n",
       "  <tbody>\n",
       "    <tr>\n",
       "      <th>count</th>\n",
       "      <td>2.327000e+03</td>\n",
       "      <td>2327.000000</td>\n",
       "      <td>2327.000000</td>\n",
       "    </tr>\n",
       "    <tr>\n",
       "      <th>mean</th>\n",
       "      <td>7.417930e+17</td>\n",
       "      <td>7027.074345</td>\n",
       "      <td>2458.798883</td>\n",
       "    </tr>\n",
       "    <tr>\n",
       "      <th>std</th>\n",
       "      <td>6.820795e+16</td>\n",
       "      <td>10920.415326</td>\n",
       "      <td>4163.981032</td>\n",
       "    </tr>\n",
       "    <tr>\n",
       "      <th>min</th>\n",
       "      <td>6.660209e+17</td>\n",
       "      <td>0.000000</td>\n",
       "      <td>1.000000</td>\n",
       "    </tr>\n",
       "    <tr>\n",
       "      <th>25%</th>\n",
       "      <td>6.781394e+17</td>\n",
       "      <td>1220.500000</td>\n",
       "      <td>492.500000</td>\n",
       "    </tr>\n",
       "    <tr>\n",
       "      <th>50%</th>\n",
       "      <td>7.178418e+17</td>\n",
       "      <td>3038.000000</td>\n",
       "      <td>1144.000000</td>\n",
       "    </tr>\n",
       "    <tr>\n",
       "      <th>75%</th>\n",
       "      <td>7.986547e+17</td>\n",
       "      <td>8565.500000</td>\n",
       "      <td>2845.000000</td>\n",
       "    </tr>\n",
       "    <tr>\n",
       "      <th>max</th>\n",
       "      <td>8.924206e+17</td>\n",
       "      <td>144253.000000</td>\n",
       "      <td>70335.000000</td>\n",
       "    </tr>\n",
       "  </tbody>\n",
       "</table>\n",
       "</div>"
      ],
      "text/plain": [
       "           tweet_id    likes_count  retweets_count\n",
       "count  2.327000e+03    2327.000000     2327.000000\n",
       "mean   7.417930e+17    7027.074345     2458.798883\n",
       "std    6.820795e+16   10920.415326     4163.981032\n",
       "min    6.660209e+17       0.000000        1.000000\n",
       "25%    6.781394e+17    1220.500000      492.500000\n",
       "50%    7.178418e+17    3038.000000     1144.000000\n",
       "75%    7.986547e+17    8565.500000     2845.000000\n",
       "max    8.924206e+17  144253.000000    70335.000000"
      ]
     },
     "execution_count": 25,
     "metadata": {},
     "output_type": "execute_result"
    }
   ],
   "source": [
    "like_retweet_df.describe()"
   ]
  },
  {
   "cell_type": "markdown",
   "metadata": {},
   "source": [
    "**`images_prediction_df`** table"
   ]
  },
  {
   "cell_type": "code",
   "execution_count": 26,
   "metadata": {},
   "outputs": [
    {
     "data": {
      "text/plain": [
       "(2075, 12)"
      ]
     },
     "execution_count": 26,
     "metadata": {},
     "output_type": "execute_result"
    }
   ],
   "source": [
    "images_prediction_df.shape"
   ]
  },
  {
   "cell_type": "code",
   "execution_count": 27,
   "metadata": {},
   "outputs": [
    {
     "name": "stdout",
     "output_type": "stream",
     "text": [
      "<class 'pandas.core.frame.DataFrame'>\n",
      "RangeIndex: 2075 entries, 0 to 2074\n",
      "Data columns (total 12 columns):\n",
      "tweet_id    2075 non-null int64\n",
      "jpg_url     2075 non-null object\n",
      "img_num     2075 non-null int64\n",
      "p1          2075 non-null object\n",
      "p1_conf     2075 non-null float64\n",
      "p1_dog      2075 non-null bool\n",
      "p2          2075 non-null object\n",
      "p2_conf     2075 non-null float64\n",
      "p2_dog      2075 non-null bool\n",
      "p3          2075 non-null object\n",
      "p3_conf     2075 non-null float64\n",
      "p3_dog      2075 non-null bool\n",
      "dtypes: bool(3), float64(3), int64(2), object(4)\n",
      "memory usage: 152.1+ KB\n"
     ]
    }
   ],
   "source": [
    "images_prediction_df.info()"
   ]
  },
  {
   "cell_type": "code",
   "execution_count": 28,
   "metadata": {},
   "outputs": [
    {
     "data": {
      "text/html": [
       "<div>\n",
       "<style scoped>\n",
       "    .dataframe tbody tr th:only-of-type {\n",
       "        vertical-align: middle;\n",
       "    }\n",
       "\n",
       "    .dataframe tbody tr th {\n",
       "        vertical-align: top;\n",
       "    }\n",
       "\n",
       "    .dataframe thead th {\n",
       "        text-align: right;\n",
       "    }\n",
       "</style>\n",
       "<table border=\"1\" class=\"dataframe\">\n",
       "  <thead>\n",
       "    <tr style=\"text-align: right;\">\n",
       "      <th></th>\n",
       "      <th>tweet_id</th>\n",
       "      <th>jpg_url</th>\n",
       "      <th>img_num</th>\n",
       "      <th>p1</th>\n",
       "      <th>p1_conf</th>\n",
       "      <th>p1_dog</th>\n",
       "      <th>p2</th>\n",
       "      <th>p2_conf</th>\n",
       "      <th>p2_dog</th>\n",
       "      <th>p3</th>\n",
       "      <th>p3_conf</th>\n",
       "      <th>p3_dog</th>\n",
       "    </tr>\n",
       "  </thead>\n",
       "  <tbody>\n",
       "    <tr>\n",
       "      <th>218</th>\n",
       "      <td>670073503555706880</td>\n",
       "      <td>https://pbs.twimg.com/media/CUyUSuWXIAAZKYF.jpg</td>\n",
       "      <td>1</td>\n",
       "      <td>malamute</td>\n",
       "      <td>0.601886</td>\n",
       "      <td>True</td>\n",
       "      <td>Siberian_husky</td>\n",
       "      <td>0.340106</td>\n",
       "      <td>True</td>\n",
       "      <td>Eskimo_dog</td>\n",
       "      <td>0.050041</td>\n",
       "      <td>True</td>\n",
       "    </tr>\n",
       "    <tr>\n",
       "      <th>1556</th>\n",
       "      <td>793210959003287553</td>\n",
       "      <td>https://pbs.twimg.com/media/CwINKJeW8AYHVkn.jpg</td>\n",
       "      <td>1</td>\n",
       "      <td>doormat</td>\n",
       "      <td>0.874431</td>\n",
       "      <td>False</td>\n",
       "      <td>French_bulldog</td>\n",
       "      <td>0.018759</td>\n",
       "      <td>True</td>\n",
       "      <td>Boston_bull</td>\n",
       "      <td>0.015134</td>\n",
       "      <td>True</td>\n",
       "    </tr>\n",
       "    <tr>\n",
       "      <th>653</th>\n",
       "      <td>682047327939461121</td>\n",
       "      <td>https://pbs.twimg.com/media/CXcebTeWsAUQJ-J.jpg</td>\n",
       "      <td>1</td>\n",
       "      <td>teddy</td>\n",
       "      <td>0.364095</td>\n",
       "      <td>False</td>\n",
       "      <td>doormat</td>\n",
       "      <td>0.119243</td>\n",
       "      <td>False</td>\n",
       "      <td>toyshop</td>\n",
       "      <td>0.035127</td>\n",
       "      <td>False</td>\n",
       "    </tr>\n",
       "    <tr>\n",
       "      <th>1001</th>\n",
       "      <td>708738143638450176</td>\n",
       "      <td>https://pbs.twimg.com/media/CdXxlFPWwAABaOv.jpg</td>\n",
       "      <td>1</td>\n",
       "      <td>Pomeranian</td>\n",
       "      <td>0.933457</td>\n",
       "      <td>True</td>\n",
       "      <td>Samoyed</td>\n",
       "      <td>0.057221</td>\n",
       "      <td>True</td>\n",
       "      <td>West_Highland_white_terrier</td>\n",
       "      <td>0.000904</td>\n",
       "      <td>True</td>\n",
       "    </tr>\n",
       "    <tr>\n",
       "      <th>898</th>\n",
       "      <td>699779630832685056</td>\n",
       "      <td>https://pbs.twimg.com/media/CbYd3C9WEAErJ4Z.jpg</td>\n",
       "      <td>1</td>\n",
       "      <td>malinois</td>\n",
       "      <td>0.706038</td>\n",
       "      <td>True</td>\n",
       "      <td>German_shepherd</td>\n",
       "      <td>0.165655</td>\n",
       "      <td>True</td>\n",
       "      <td>Great_Dane</td>\n",
       "      <td>0.059048</td>\n",
       "      <td>True</td>\n",
       "    </tr>\n",
       "    <tr>\n",
       "      <th>1961</th>\n",
       "      <td>866450705531457537</td>\n",
       "      <td>https://pbs.twimg.com/media/DAZAUfBXcAAG_Nn.jpg</td>\n",
       "      <td>2</td>\n",
       "      <td>French_bulldog</td>\n",
       "      <td>0.905334</td>\n",
       "      <td>True</td>\n",
       "      <td>Boston_bull</td>\n",
       "      <td>0.078060</td>\n",
       "      <td>True</td>\n",
       "      <td>pug</td>\n",
       "      <td>0.001771</td>\n",
       "      <td>True</td>\n",
       "    </tr>\n",
       "    <tr>\n",
       "      <th>449</th>\n",
       "      <td>674737130913071104</td>\n",
       "      <td>https://pbs.twimg.com/media/CV0l10AU8AAfg-a.jpg</td>\n",
       "      <td>1</td>\n",
       "      <td>Pomeranian</td>\n",
       "      <td>0.948537</td>\n",
       "      <td>True</td>\n",
       "      <td>schipperke</td>\n",
       "      <td>0.014310</td>\n",
       "      <td>True</td>\n",
       "      <td>Chihuahua</td>\n",
       "      <td>0.008120</td>\n",
       "      <td>True</td>\n",
       "    </tr>\n",
       "    <tr>\n",
       "      <th>1272</th>\n",
       "      <td>750011400160841729</td>\n",
       "      <td>https://pbs.twimg.com/media/CmfmvGUWgAAuVKD.jpg</td>\n",
       "      <td>1</td>\n",
       "      <td>muzzle</td>\n",
       "      <td>0.237620</td>\n",
       "      <td>False</td>\n",
       "      <td>Boston_bull</td>\n",
       "      <td>0.087150</td>\n",
       "      <td>True</td>\n",
       "      <td>sombrero</td>\n",
       "      <td>0.068510</td>\n",
       "      <td>False</td>\n",
       "    </tr>\n",
       "    <tr>\n",
       "      <th>318</th>\n",
       "      <td>671763349865160704</td>\n",
       "      <td>https://pbs.twimg.com/media/CVKVM3NW4AAdi1e.jpg</td>\n",
       "      <td>1</td>\n",
       "      <td>prayer_rug</td>\n",
       "      <td>0.445334</td>\n",
       "      <td>False</td>\n",
       "      <td>doormat</td>\n",
       "      <td>0.275311</td>\n",
       "      <td>False</td>\n",
       "      <td>bib</td>\n",
       "      <td>0.048813</td>\n",
       "      <td>False</td>\n",
       "    </tr>\n",
       "    <tr>\n",
       "      <th>1557</th>\n",
       "      <td>793226087023144960</td>\n",
       "      <td>https://pbs.twimg.com/media/CwIa5CjW8AErZgL.jpg</td>\n",
       "      <td>1</td>\n",
       "      <td>wire-haired_fox_terrier</td>\n",
       "      <td>0.456047</td>\n",
       "      <td>True</td>\n",
       "      <td>Lakeland_terrier</td>\n",
       "      <td>0.273428</td>\n",
       "      <td>True</td>\n",
       "      <td>English_springer</td>\n",
       "      <td>0.083643</td>\n",
       "      <td>True</td>\n",
       "    </tr>\n",
       "    <tr>\n",
       "      <th>1526</th>\n",
       "      <td>788765914992902144</td>\n",
       "      <td>https://pbs.twimg.com/media/CvJCabcWgAIoUxW.jpg</td>\n",
       "      <td>1</td>\n",
       "      <td>cocker_spaniel</td>\n",
       "      <td>0.500509</td>\n",
       "      <td>True</td>\n",
       "      <td>golden_retriever</td>\n",
       "      <td>0.272734</td>\n",
       "      <td>True</td>\n",
       "      <td>jigsaw_puzzle</td>\n",
       "      <td>0.041476</td>\n",
       "      <td>False</td>\n",
       "    </tr>\n",
       "    <tr>\n",
       "      <th>1832</th>\n",
       "      <td>836677758902222849</td>\n",
       "      <td>https://pbs.twimg.com/media/C5x57-TWUAEawQh.jpg</td>\n",
       "      <td>2</td>\n",
       "      <td>leopard</td>\n",
       "      <td>0.797410</td>\n",
       "      <td>False</td>\n",
       "      <td>jaguar</td>\n",
       "      <td>0.095487</td>\n",
       "      <td>False</td>\n",
       "      <td>snow_leopard</td>\n",
       "      <td>0.079694</td>\n",
       "      <td>False</td>\n",
       "    </tr>\n",
       "    <tr>\n",
       "      <th>1786</th>\n",
       "      <td>829449946868879360</td>\n",
       "      <td>https://pbs.twimg.com/media/C4LMUf8WYAkWz4I.jpg</td>\n",
       "      <td>1</td>\n",
       "      <td>Labrador_retriever</td>\n",
       "      <td>0.315163</td>\n",
       "      <td>True</td>\n",
       "      <td>golden_retriever</td>\n",
       "      <td>0.153210</td>\n",
       "      <td>True</td>\n",
       "      <td>Pekinese</td>\n",
       "      <td>0.132791</td>\n",
       "      <td>True</td>\n",
       "    </tr>\n",
       "    <tr>\n",
       "      <th>1255</th>\n",
       "      <td>748346686624440324</td>\n",
       "      <td>https://pbs.twimg.com/media/CmKpVtlWAAEnyHm.jpg</td>\n",
       "      <td>1</td>\n",
       "      <td>borzoi</td>\n",
       "      <td>0.596455</td>\n",
       "      <td>True</td>\n",
       "      <td>whippet</td>\n",
       "      <td>0.231428</td>\n",
       "      <td>True</td>\n",
       "      <td>Saluki</td>\n",
       "      <td>0.058261</td>\n",
       "      <td>True</td>\n",
       "    </tr>\n",
       "    <tr>\n",
       "      <th>1175</th>\n",
       "      <td>737445876994609152</td>\n",
       "      <td>https://pbs.twimg.com/media/CjvvHBwUoAE55WZ.jpg</td>\n",
       "      <td>1</td>\n",
       "      <td>Samoyed</td>\n",
       "      <td>0.400568</td>\n",
       "      <td>True</td>\n",
       "      <td>Pomeranian</td>\n",
       "      <td>0.331268</td>\n",
       "      <td>True</td>\n",
       "      <td>Maltese_dog</td>\n",
       "      <td>0.045426</td>\n",
       "      <td>True</td>\n",
       "    </tr>\n",
       "    <tr>\n",
       "      <th>1024</th>\n",
       "      <td>710588934686908417</td>\n",
       "      <td>https://pbs.twimg.com/media/CdyE2x1W8AAe0TG.jpg</td>\n",
       "      <td>4</td>\n",
       "      <td>Pembroke</td>\n",
       "      <td>0.982004</td>\n",
       "      <td>True</td>\n",
       "      <td>Cardigan</td>\n",
       "      <td>0.008943</td>\n",
       "      <td>True</td>\n",
       "      <td>malamute</td>\n",
       "      <td>0.007550</td>\n",
       "      <td>True</td>\n",
       "    </tr>\n",
       "    <tr>\n",
       "      <th>1753</th>\n",
       "      <td>824663926340194305</td>\n",
       "      <td>https://pbs.twimg.com/media/C3HLd0HXUAAUI2b.jpg</td>\n",
       "      <td>1</td>\n",
       "      <td>English_setter</td>\n",
       "      <td>0.526488</td>\n",
       "      <td>True</td>\n",
       "      <td>golden_retriever</td>\n",
       "      <td>0.402815</td>\n",
       "      <td>True</td>\n",
       "      <td>Irish_setter</td>\n",
       "      <td>0.034418</td>\n",
       "      <td>True</td>\n",
       "    </tr>\n",
       "    <tr>\n",
       "      <th>1606</th>\n",
       "      <td>800459316964663297</td>\n",
       "      <td>https://pbs.twimg.com/media/CxvNfrhWQAA2hKM.jpg</td>\n",
       "      <td>1</td>\n",
       "      <td>teddy</td>\n",
       "      <td>0.311928</td>\n",
       "      <td>False</td>\n",
       "      <td>ice_bear</td>\n",
       "      <td>0.184657</td>\n",
       "      <td>False</td>\n",
       "      <td>Christmas_stocking</td>\n",
       "      <td>0.173229</td>\n",
       "      <td>False</td>\n",
       "    </tr>\n",
       "    <tr>\n",
       "      <th>291</th>\n",
       "      <td>671182547775299584</td>\n",
       "      <td>https://pbs.twimg.com/media/CVCE9uYXIAEtSzR.jpg</td>\n",
       "      <td>1</td>\n",
       "      <td>Rottweiler</td>\n",
       "      <td>0.331179</td>\n",
       "      <td>True</td>\n",
       "      <td>kelpie</td>\n",
       "      <td>0.218601</td>\n",
       "      <td>True</td>\n",
       "      <td>Appenzeller</td>\n",
       "      <td>0.182520</td>\n",
       "      <td>True</td>\n",
       "    </tr>\n",
       "    <tr>\n",
       "      <th>2015</th>\n",
       "      <td>879492040517615616</td>\n",
       "      <td>https://pbs.twimg.com/media/DDSVWMvXsAEgmMK.jpg</td>\n",
       "      <td>1</td>\n",
       "      <td>German_short-haired_pointer</td>\n",
       "      <td>0.479896</td>\n",
       "      <td>True</td>\n",
       "      <td>vizsla</td>\n",
       "      <td>0.124353</td>\n",
       "      <td>True</td>\n",
       "      <td>bath_towel</td>\n",
       "      <td>0.073320</td>\n",
       "      <td>False</td>\n",
       "    </tr>\n",
       "  </tbody>\n",
       "</table>\n",
       "</div>"
      ],
      "text/plain": [
       "                tweet_id                                          jpg_url  \\\n",
       "218   670073503555706880  https://pbs.twimg.com/media/CUyUSuWXIAAZKYF.jpg   \n",
       "1556  793210959003287553  https://pbs.twimg.com/media/CwINKJeW8AYHVkn.jpg   \n",
       "653   682047327939461121  https://pbs.twimg.com/media/CXcebTeWsAUQJ-J.jpg   \n",
       "1001  708738143638450176  https://pbs.twimg.com/media/CdXxlFPWwAABaOv.jpg   \n",
       "898   699779630832685056  https://pbs.twimg.com/media/CbYd3C9WEAErJ4Z.jpg   \n",
       "1961  866450705531457537  https://pbs.twimg.com/media/DAZAUfBXcAAG_Nn.jpg   \n",
       "449   674737130913071104  https://pbs.twimg.com/media/CV0l10AU8AAfg-a.jpg   \n",
       "1272  750011400160841729  https://pbs.twimg.com/media/CmfmvGUWgAAuVKD.jpg   \n",
       "318   671763349865160704  https://pbs.twimg.com/media/CVKVM3NW4AAdi1e.jpg   \n",
       "1557  793226087023144960  https://pbs.twimg.com/media/CwIa5CjW8AErZgL.jpg   \n",
       "1526  788765914992902144  https://pbs.twimg.com/media/CvJCabcWgAIoUxW.jpg   \n",
       "1832  836677758902222849  https://pbs.twimg.com/media/C5x57-TWUAEawQh.jpg   \n",
       "1786  829449946868879360  https://pbs.twimg.com/media/C4LMUf8WYAkWz4I.jpg   \n",
       "1255  748346686624440324  https://pbs.twimg.com/media/CmKpVtlWAAEnyHm.jpg   \n",
       "1175  737445876994609152  https://pbs.twimg.com/media/CjvvHBwUoAE55WZ.jpg   \n",
       "1024  710588934686908417  https://pbs.twimg.com/media/CdyE2x1W8AAe0TG.jpg   \n",
       "1753  824663926340194305  https://pbs.twimg.com/media/C3HLd0HXUAAUI2b.jpg   \n",
       "1606  800459316964663297  https://pbs.twimg.com/media/CxvNfrhWQAA2hKM.jpg   \n",
       "291   671182547775299584  https://pbs.twimg.com/media/CVCE9uYXIAEtSzR.jpg   \n",
       "2015  879492040517615616  https://pbs.twimg.com/media/DDSVWMvXsAEgmMK.jpg   \n",
       "\n",
       "      img_num                           p1   p1_conf  p1_dog  \\\n",
       "218         1                     malamute  0.601886    True   \n",
       "1556        1                      doormat  0.874431   False   \n",
       "653         1                        teddy  0.364095   False   \n",
       "1001        1                   Pomeranian  0.933457    True   \n",
       "898         1                     malinois  0.706038    True   \n",
       "1961        2               French_bulldog  0.905334    True   \n",
       "449         1                   Pomeranian  0.948537    True   \n",
       "1272        1                       muzzle  0.237620   False   \n",
       "318         1                   prayer_rug  0.445334   False   \n",
       "1557        1      wire-haired_fox_terrier  0.456047    True   \n",
       "1526        1               cocker_spaniel  0.500509    True   \n",
       "1832        2                      leopard  0.797410   False   \n",
       "1786        1           Labrador_retriever  0.315163    True   \n",
       "1255        1                       borzoi  0.596455    True   \n",
       "1175        1                      Samoyed  0.400568    True   \n",
       "1024        4                     Pembroke  0.982004    True   \n",
       "1753        1               English_setter  0.526488    True   \n",
       "1606        1                        teddy  0.311928   False   \n",
       "291         1                   Rottweiler  0.331179    True   \n",
       "2015        1  German_short-haired_pointer  0.479896    True   \n",
       "\n",
       "                    p2   p2_conf  p2_dog                           p3  \\\n",
       "218     Siberian_husky  0.340106    True                   Eskimo_dog   \n",
       "1556    French_bulldog  0.018759    True                  Boston_bull   \n",
       "653            doormat  0.119243   False                      toyshop   \n",
       "1001           Samoyed  0.057221    True  West_Highland_white_terrier   \n",
       "898    German_shepherd  0.165655    True                   Great_Dane   \n",
       "1961       Boston_bull  0.078060    True                          pug   \n",
       "449         schipperke  0.014310    True                    Chihuahua   \n",
       "1272       Boston_bull  0.087150    True                     sombrero   \n",
       "318            doormat  0.275311   False                          bib   \n",
       "1557  Lakeland_terrier  0.273428    True             English_springer   \n",
       "1526  golden_retriever  0.272734    True                jigsaw_puzzle   \n",
       "1832            jaguar  0.095487   False                 snow_leopard   \n",
       "1786  golden_retriever  0.153210    True                     Pekinese   \n",
       "1255           whippet  0.231428    True                       Saluki   \n",
       "1175        Pomeranian  0.331268    True                  Maltese_dog   \n",
       "1024          Cardigan  0.008943    True                     malamute   \n",
       "1753  golden_retriever  0.402815    True                 Irish_setter   \n",
       "1606          ice_bear  0.184657   False           Christmas_stocking   \n",
       "291             kelpie  0.218601    True                  Appenzeller   \n",
       "2015            vizsla  0.124353    True                   bath_towel   \n",
       "\n",
       "       p3_conf  p3_dog  \n",
       "218   0.050041    True  \n",
       "1556  0.015134    True  \n",
       "653   0.035127   False  \n",
       "1001  0.000904    True  \n",
       "898   0.059048    True  \n",
       "1961  0.001771    True  \n",
       "449   0.008120    True  \n",
       "1272  0.068510   False  \n",
       "318   0.048813   False  \n",
       "1557  0.083643    True  \n",
       "1526  0.041476   False  \n",
       "1832  0.079694   False  \n",
       "1786  0.132791    True  \n",
       "1255  0.058261    True  \n",
       "1175  0.045426    True  \n",
       "1024  0.007550    True  \n",
       "1753  0.034418    True  \n",
       "1606  0.173229   False  \n",
       "291   0.182520    True  \n",
       "2015  0.073320   False  "
      ]
     },
     "execution_count": 28,
     "metadata": {},
     "output_type": "execute_result"
    }
   ],
   "source": [
    "images_prediction_df.sample(20)"
   ]
  },
  {
   "cell_type": "markdown",
   "metadata": {},
   "source": [
    "- Some columns like img_num and jpg_url won(t be useful for this analysis\n",
    "- Every row should be an observation : Just one prediction with the most prediction percentage should be then considered and the others removed"
   ]
  },
  {
   "cell_type": "code",
   "execution_count": 31,
   "metadata": {},
   "outputs": [
    {
     "data": {
      "text/html": [
       "<div>\n",
       "<style scoped>\n",
       "    .dataframe tbody tr th:only-of-type {\n",
       "        vertical-align: middle;\n",
       "    }\n",
       "\n",
       "    .dataframe tbody tr th {\n",
       "        vertical-align: top;\n",
       "    }\n",
       "\n",
       "    .dataframe thead th {\n",
       "        text-align: right;\n",
       "    }\n",
       "</style>\n",
       "<table border=\"1\" class=\"dataframe\">\n",
       "  <thead>\n",
       "    <tr style=\"text-align: right;\">\n",
       "      <th></th>\n",
       "      <th>tweet_id</th>\n",
       "      <th>jpg_url</th>\n",
       "      <th>img_num</th>\n",
       "      <th>p1</th>\n",
       "      <th>p1_conf</th>\n",
       "      <th>p1_dog</th>\n",
       "      <th>p2</th>\n",
       "      <th>p2_conf</th>\n",
       "      <th>p2_dog</th>\n",
       "      <th>p3</th>\n",
       "      <th>p3_conf</th>\n",
       "      <th>p3_dog</th>\n",
       "    </tr>\n",
       "  </thead>\n",
       "  <tbody>\n",
       "  </tbody>\n",
       "</table>\n",
       "</div>"
      ],
      "text/plain": [
       "Empty DataFrame\n",
       "Columns: [tweet_id, jpg_url, img_num, p1, p1_conf, p1_dog, p2, p2_conf, p2_dog, p3, p3_conf, p3_dog]\n",
       "Index: []"
      ]
     },
     "execution_count": 31,
     "metadata": {},
     "output_type": "execute_result"
    }
   ],
   "source": [
    "images_prediction_df[images_prediction_df['tweet_id'].duplicated()]"
   ]
  },
  {
   "cell_type": "markdown",
   "metadata": {},
   "source": [
    "- No duplicated records"
   ]
  },
  {
   "cell_type": "markdown",
   "metadata": {},
   "source": [
    "- Also, all dataframes should be merged to form one table"
   ]
  },
  {
   "cell_type": "markdown",
   "metadata": {},
   "source": [
    "## Summary of issues"
   ]
  },
  {
   "cell_type": "markdown",
   "metadata": {},
   "source": [
    "### Quality issues\n",
    "##### `archive_twitter` dataframe\n",
    "\n",
    "0.  Missing records (2356 instead of +5k : won't take into account here)\n",
    "1.  Some retweets in the dataset\n",
    "2.  Some tweets does not concern dogs(when text contains we only rate dogs, Please only send in dogs, etc)\n",
    "3.  Useless columns for analysis : low data quality (in_reply_to_status_id, in_reply_to_user_id, source, retweeted_status_id , retweeted_status_user_id, retweeted_status_timestamp after deleting all retweet....)\n",
    "4.  Erroneous datatypes(timestamp should be datetime)\n",
    "5.  Invalid name for some rows( name like a, an,the, this, actually, getting, old, all,just,the, very)\n",
    "6.  Invalid name for Eazy-E :  Eazy-E instead of Eazy\n",
    "7.  Incoherent values for rating denominator \n",
    "8.  Missing values for dog_stage(pupper, dogger, floofer, puppo : some can be getted from the text column)\n",
    "\n",
    "##### `images_predicted` dataframe\n",
    "\n",
    "9.  Useless columns for analysis: low data quality (jpg_url,img_num)"
   ]
  },
  {
   "cell_type": "markdown",
   "metadata": {
    "extensions": {
     "jupyter_dashboards": {
      "version": 1,
      "views": {
       "grid_default": {
        "col": 0,
        "height": 7,
        "hidden": false,
        "row": 40,
        "width": 12
       },
       "report_default": {
        "hidden": false
       }
      }
     }
    }
   },
   "source": [
    "### Tidiness issues\n",
    "##### `archive_twitter` dataframe\n",
    "\n",
    "1.  1 variable in four columns (pupper, dogger, flusher, puppo must be the values of one column : dog_stage)\n",
    "2.  Every row should be an observation : one prediction with the most prediction percentage should be considered and the others removed\n",
    "\n",
    "3. Dataframes should be merged on `tweet_id` for having all datas in a dataframe"
   ]
  },
  {
   "cell_type": "markdown",
   "metadata": {
    "extensions": {
     "jupyter_dashboards": {
      "version": 1,
      "views": {
       "grid_default": {
        "col": 4,
        "height": 4,
        "hidden": false,
        "row": 32,
        "width": 4
       },
       "report_default": {
        "hidden": false
       }
      }
     }
    }
   },
   "source": [
    "## Cleaning Data"
   ]
  },
  {
   "cell_type": "code",
   "execution_count": 32,
   "metadata": {},
   "outputs": [],
   "source": [
    "# Make copies of original pieces of data\n",
    "\n",
    "archive_twitter_copy = archive_twitter.copy()\n",
    "images_prediction_copy = images_prediction_df.copy()\n",
    "like_retweet_copy = like_retweet_df.copy()"
   ]
  },
  {
   "cell_type": "markdown",
   "metadata": {},
   "source": [
    "### Issue #1:\n",
    "\n",
    "`archive_twitter` : Some retweets in the dataset"
   ]
  },
  {
   "cell_type": "markdown",
   "metadata": {},
   "source": [
    "#### Define:\n",
    "\n",
    "The retweets are the tweets which have their retweeted_status_id and retweeted_status_user_id are not null\n",
    "\n",
    "Delete records where retweet_status_id is not null. In other terms, keep the records where retweeted_status_id is null"
   ]
  },
  {
   "cell_type": "markdown",
   "metadata": {},
   "source": [
    "#### Code"
   ]
  },
  {
   "cell_type": "code",
   "execution_count": 33,
   "metadata": {},
   "outputs": [],
   "source": [
    "archive_twitter_copy = archive_twitter_copy[archive_twitter_copy['retweeted_status_id'].isnull()]"
   ]
  },
  {
   "cell_type": "markdown",
   "metadata": {},
   "source": [
    "#### Test"
   ]
  },
  {
   "cell_type": "code",
   "execution_count": 34,
   "metadata": {},
   "outputs": [
    {
     "data": {
      "text/plain": [
       "(2175, 17)"
      ]
     },
     "execution_count": 34,
     "metadata": {},
     "output_type": "execute_result"
    }
   ],
   "source": [
    "archive_twitter_copy.shape"
   ]
  },
  {
   "cell_type": "code",
   "execution_count": 35,
   "metadata": {},
   "outputs": [
    {
     "data": {
      "text/html": [
       "<div>\n",
       "<style scoped>\n",
       "    .dataframe tbody tr th:only-of-type {\n",
       "        vertical-align: middle;\n",
       "    }\n",
       "\n",
       "    .dataframe tbody tr th {\n",
       "        vertical-align: top;\n",
       "    }\n",
       "\n",
       "    .dataframe thead th {\n",
       "        text-align: right;\n",
       "    }\n",
       "</style>\n",
       "<table border=\"1\" class=\"dataframe\">\n",
       "  <thead>\n",
       "    <tr style=\"text-align: right;\">\n",
       "      <th></th>\n",
       "      <th>tweet_id</th>\n",
       "      <th>in_reply_to_status_id</th>\n",
       "      <th>in_reply_to_user_id</th>\n",
       "      <th>timestamp</th>\n",
       "      <th>source</th>\n",
       "      <th>text</th>\n",
       "      <th>retweeted_status_id</th>\n",
       "      <th>retweeted_status_user_id</th>\n",
       "      <th>retweeted_status_timestamp</th>\n",
       "      <th>expanded_urls</th>\n",
       "      <th>rating_numerator</th>\n",
       "      <th>rating_denominator</th>\n",
       "      <th>name</th>\n",
       "      <th>doggo</th>\n",
       "      <th>floofer</th>\n",
       "      <th>pupper</th>\n",
       "      <th>puppo</th>\n",
       "    </tr>\n",
       "  </thead>\n",
       "  <tbody>\n",
       "  </tbody>\n",
       "</table>\n",
       "</div>"
      ],
      "text/plain": [
       "Empty DataFrame\n",
       "Columns: [tweet_id, in_reply_to_status_id, in_reply_to_user_id, timestamp, source, text, retweeted_status_id, retweeted_status_user_id, retweeted_status_timestamp, expanded_urls, rating_numerator, rating_denominator, name, doggo, floofer, pupper, puppo]\n",
       "Index: []"
      ]
     },
     "execution_count": 35,
     "metadata": {},
     "output_type": "execute_result"
    }
   ],
   "source": [
    "archive_twitter_copy[archive_twitter_copy['retweeted_status_id'].notnull()]"
   ]
  },
  {
   "cell_type": "markdown",
   "metadata": {},
   "source": [
    "### Issue #2:\n",
    "\n",
    "`archive_twitter` : Useless columns for analysis : low data quality (in_reply_to_status_id, in_reply_to_user_id, source, retweeted_status_id , retweeted_status_user_id, retweeted_status_timestamp after deleting all retweet....)"
   ]
  },
  {
   "cell_type": "markdown",
   "metadata": {
    "collapsed": true,
    "extensions": {
     "jupyter_dashboards": {
      "version": 1,
      "views": {
       "grid_default": {
        "hidden": true
       },
       "report_default": {
        "hidden": true
       }
      }
     }
    }
   },
   "source": [
    "#### Define\n",
    "\n",
    "Drop all columns that are useless for the analysis : the ones which are low in data quality(almost same value for source , nan value for retweeted_status_id, etc) "
   ]
  },
  {
   "cell_type": "markdown",
   "metadata": {},
   "source": [
    "#### Code"
   ]
  },
  {
   "cell_type": "code",
   "execution_count": 36,
   "metadata": {},
   "outputs": [],
   "source": [
    "columns_to_delete = [\"in_reply_to_status_id\", \"in_reply_to_user_id\", \"source\", \"retweeted_status_id\" , \"retweeted_status_user_id\", \"retweeted_status_timestamp\"]\n",
    "archive_twitter_copy.drop(columns=columns_to_delete, axis=1, inplace=True)"
   ]
  },
  {
   "cell_type": "markdown",
   "metadata": {},
   "source": [
    "#### Test"
   ]
  },
  {
   "cell_type": "code",
   "execution_count": 37,
   "metadata": {},
   "outputs": [
    {
     "name": "stdout",
     "output_type": "stream",
     "text": [
      "<class 'pandas.core.frame.DataFrame'>\n",
      "Int64Index: 2175 entries, 0 to 2355\n",
      "Data columns (total 11 columns):\n",
      "tweet_id              2175 non-null int64\n",
      "timestamp             2175 non-null object\n",
      "text                  2175 non-null object\n",
      "expanded_urls         2117 non-null object\n",
      "rating_numerator      2175 non-null int64\n",
      "rating_denominator    2175 non-null int64\n",
      "name                  2175 non-null object\n",
      "doggo                 2175 non-null object\n",
      "floofer               2175 non-null object\n",
      "pupper                2175 non-null object\n",
      "puppo                 2175 non-null object\n",
      "dtypes: int64(3), object(8)\n",
      "memory usage: 203.9+ KB\n"
     ]
    }
   ],
   "source": [
    "archive_twitter_copy.info()"
   ]
  },
  {
   "cell_type": "code",
   "execution_count": 38,
   "metadata": {},
   "outputs": [
    {
     "data": {
      "text/html": [
       "<div>\n",
       "<style scoped>\n",
       "    .dataframe tbody tr th:only-of-type {\n",
       "        vertical-align: middle;\n",
       "    }\n",
       "\n",
       "    .dataframe tbody tr th {\n",
       "        vertical-align: top;\n",
       "    }\n",
       "\n",
       "    .dataframe thead th {\n",
       "        text-align: right;\n",
       "    }\n",
       "</style>\n",
       "<table border=\"1\" class=\"dataframe\">\n",
       "  <thead>\n",
       "    <tr style=\"text-align: right;\">\n",
       "      <th></th>\n",
       "      <th>tweet_id</th>\n",
       "      <th>timestamp</th>\n",
       "      <th>text</th>\n",
       "      <th>expanded_urls</th>\n",
       "      <th>rating_numerator</th>\n",
       "      <th>rating_denominator</th>\n",
       "      <th>name</th>\n",
       "      <th>doggo</th>\n",
       "      <th>floofer</th>\n",
       "      <th>pupper</th>\n",
       "      <th>puppo</th>\n",
       "    </tr>\n",
       "  </thead>\n",
       "  <tbody>\n",
       "    <tr>\n",
       "      <th>1842</th>\n",
       "      <td>675870721063669760</td>\n",
       "      <td>2015-12-13 02:51:51 +0000</td>\n",
       "      <td>&amp;amp; this is Yoshi. Another world record cont...</td>\n",
       "      <td>https://twitter.com/dog_rates/status/675870721...</td>\n",
       "      <td>11</td>\n",
       "      <td>10</td>\n",
       "      <td>None</td>\n",
       "      <td>None</td>\n",
       "      <td>None</td>\n",
       "      <td>None</td>\n",
       "      <td>None</td>\n",
       "    </tr>\n",
       "  </tbody>\n",
       "</table>\n",
       "</div>"
      ],
      "text/plain": [
       "                tweet_id                  timestamp  \\\n",
       "1842  675870721063669760  2015-12-13 02:51:51 +0000   \n",
       "\n",
       "                                                   text  \\\n",
       "1842  &amp; this is Yoshi. Another world record cont...   \n",
       "\n",
       "                                          expanded_urls  rating_numerator  \\\n",
       "1842  https://twitter.com/dog_rates/status/675870721...                11   \n",
       "\n",
       "      rating_denominator  name doggo floofer pupper puppo  \n",
       "1842                  10  None  None    None   None  None  "
      ]
     },
     "execution_count": 38,
     "metadata": {},
     "output_type": "execute_result"
    }
   ],
   "source": [
    "archive_twitter_copy.sample()"
   ]
  },
  {
   "cell_type": "markdown",
   "metadata": {},
   "source": [
    "### Issue #3:\n",
    "\n",
    "`archive_twitter` : Erroneous datatypes(timestamp should be datetime)"
   ]
  },
  {
   "cell_type": "markdown",
   "metadata": {},
   "source": [
    "#### Define\n",
    "\n",
    "Change the datatype of timestamps column to datetime"
   ]
  },
  {
   "cell_type": "markdown",
   "metadata": {},
   "source": [
    "#### Code"
   ]
  },
  {
   "cell_type": "code",
   "execution_count": 39,
   "metadata": {},
   "outputs": [],
   "source": [
    "archive_twitter_copy['timestamp'] = pd.to_datetime(archive_twitter_copy['timestamp'])"
   ]
  },
  {
   "cell_type": "markdown",
   "metadata": {},
   "source": [
    "#### Test"
   ]
  },
  {
   "cell_type": "code",
   "execution_count": 40,
   "metadata": {},
   "outputs": [
    {
     "name": "stdout",
     "output_type": "stream",
     "text": [
      "<class 'pandas.core.frame.DataFrame'>\n",
      "Int64Index: 2175 entries, 0 to 2355\n",
      "Data columns (total 11 columns):\n",
      "tweet_id              2175 non-null int64\n",
      "timestamp             2175 non-null datetime64[ns]\n",
      "text                  2175 non-null object\n",
      "expanded_urls         2117 non-null object\n",
      "rating_numerator      2175 non-null int64\n",
      "rating_denominator    2175 non-null int64\n",
      "name                  2175 non-null object\n",
      "doggo                 2175 non-null object\n",
      "floofer               2175 non-null object\n",
      "pupper                2175 non-null object\n",
      "puppo                 2175 non-null object\n",
      "dtypes: datetime64[ns](1), int64(3), object(7)\n",
      "memory usage: 203.9+ KB\n"
     ]
    }
   ],
   "source": [
    "archive_twitter_copy.info()"
   ]
  },
  {
   "cell_type": "markdown",
   "metadata": {},
   "source": [
    "### Issue #4:\n",
    "\n",
    "`archive_twitter` : Some tweets does not concern dogs(when text contains we only rate dogs, Please only send in dogs, etc)\n"
   ]
  },
  {
   "cell_type": "markdown",
   "metadata": {},
   "source": [
    "#### Define\n",
    " \n",
    "Drop all records where text column value contains at least one of the expressions \"We only rate dogs\", \"warning\", \"Please only send in dogs\""
   ]
  },
  {
   "cell_type": "markdown",
   "metadata": {},
   "source": [
    "#### Code"
   ]
  },
  {
   "cell_type": "code",
   "execution_count": 41,
   "metadata": {},
   "outputs": [],
   "source": [
    "# A function which return a df without the records where text columns contains the specified wrong_value\n",
    "\n",
    "def delete_no_dogs_tweet(wrong_value):\n",
    "    df = archive_twitter_copy[~archive_twitter_copy[\"text\"].str.contains(wrong_value)]\n",
    "    return df"
   ]
  },
  {
   "cell_type": "code",
   "execution_count": 42,
   "metadata": {},
   "outputs": [],
   "source": [
    "wrong_values = [\"We only rate dogs\", \"warning\", \"Please only send in dogs\"]\n",
    "\n",
    "for value in wrong_values:\n",
    "    archive_twitter_copy = delete_no_dogs_tweet(value)"
   ]
  },
  {
   "cell_type": "markdown",
   "metadata": {},
   "source": [
    "#### Test"
   ]
  },
  {
   "cell_type": "code",
   "execution_count": 43,
   "metadata": {},
   "outputs": [
    {
     "data": {
      "text/plain": [
       "(2121, 11)"
      ]
     },
     "execution_count": 43,
     "metadata": {},
     "output_type": "execute_result"
    }
   ],
   "source": [
    "archive_twitter_copy.shape"
   ]
  },
  {
   "cell_type": "code",
   "execution_count": 45,
   "metadata": {},
   "outputs": [
    {
     "data": {
      "text/html": [
       "<div>\n",
       "<style scoped>\n",
       "    .dataframe tbody tr th:only-of-type {\n",
       "        vertical-align: middle;\n",
       "    }\n",
       "\n",
       "    .dataframe tbody tr th {\n",
       "        vertical-align: top;\n",
       "    }\n",
       "\n",
       "    .dataframe thead th {\n",
       "        text-align: right;\n",
       "    }\n",
       "</style>\n",
       "<table border=\"1\" class=\"dataframe\">\n",
       "  <thead>\n",
       "    <tr style=\"text-align: right;\">\n",
       "      <th></th>\n",
       "      <th>tweet_id</th>\n",
       "      <th>timestamp</th>\n",
       "      <th>text</th>\n",
       "      <th>expanded_urls</th>\n",
       "      <th>rating_numerator</th>\n",
       "      <th>rating_denominator</th>\n",
       "      <th>name</th>\n",
       "      <th>doggo</th>\n",
       "      <th>floofer</th>\n",
       "      <th>pupper</th>\n",
       "      <th>puppo</th>\n",
       "    </tr>\n",
       "  </thead>\n",
       "  <tbody>\n",
       "  </tbody>\n",
       "</table>\n",
       "</div>"
      ],
      "text/plain": [
       "Empty DataFrame\n",
       "Columns: [tweet_id, timestamp, text, expanded_urls, rating_numerator, rating_denominator, name, doggo, floofer, pupper, puppo]\n",
       "Index: []"
      ]
     },
     "execution_count": 45,
     "metadata": {},
     "output_type": "execute_result"
    }
   ],
   "source": [
    "archive_twitter_copy[archive_twitter_copy[\"text\"].isin(wrong_values)]"
   ]
  },
  {
   "cell_type": "markdown",
   "metadata": {},
   "source": [
    "### Issue #5:\n",
    "\n",
    "`archive_twitter` : Invalid name for some rows( name like a, an,the, this, actually, getting, old, all,just,the sometimes)"
   ]
  },
  {
   "cell_type": "markdown",
   "metadata": {},
   "source": [
    "#### Define\n",
    "\n",
    "- Write a function which will extract the name following a regex for name where value is `a`, `an` \n",
    "\n",
    "The regex are : 'named\\s(\\w+)' and 'His\\sname\\sis\\s(\\w+)'\n",
    "- For the rest of wrong values, an visual asessing has shown that either the tweet does not concerned a dog or there is no name specified. Replace them by none"
   ]
  },
  {
   "cell_type": "markdown",
   "metadata": {},
   "source": [
    "#### Code"
   ]
  },
  {
   "cell_type": "code",
   "execution_count": 51,
   "metadata": {},
   "outputs": [],
   "source": [
    "def extract_name(value, index):\n",
    "    if value['name'] in ['a', 'an']:\n",
    "        val = re.findall(r'named\\s(\\w+)', archive_twitter_copy.loc[index,'text'])\n",
    "        if not val:\n",
    "            val = re.findall(r'His\\sname\\sis\\s(\\w+)', archive_twitter_copy.loc[index,'text'])\n",
    "            if not val:\n",
    "                return \"\"\n",
    "            else :\n",
    "                return val[0]\n",
    "        else:\n",
    "            return val[0]\n",
    "    return \"\""
   ]
  },
  {
   "cell_type": "code",
   "execution_count": 54,
   "metadata": {},
   "outputs": [],
   "source": [
    "# Select all row index where name is one of the values of the list passed in argument to isin() method\n",
    "row_index = archive_twitter_copy.index[archive_twitter_copy.name.isin(['a', 'an', 'the', 'getting', 'actually', 'this', 'old', 'all', 'just', 'very']) ].tolist()\n",
    "for index in row_index :\n",
    "    archive_twitter_copy.loc[index, 'name'] = extract_name(archive_twitter_copy.loc[index], index)"
   ]
  },
  {
   "cell_type": "markdown",
   "metadata": {},
   "source": [
    "#### Test"
   ]
  },
  {
   "cell_type": "code",
   "execution_count": 55,
   "metadata": {},
   "outputs": [
    {
     "data": {
      "text/html": [
       "<div>\n",
       "<style scoped>\n",
       "    .dataframe tbody tr th:only-of-type {\n",
       "        vertical-align: middle;\n",
       "    }\n",
       "\n",
       "    .dataframe tbody tr th {\n",
       "        vertical-align: top;\n",
       "    }\n",
       "\n",
       "    .dataframe thead th {\n",
       "        text-align: right;\n",
       "    }\n",
       "</style>\n",
       "<table border=\"1\" class=\"dataframe\">\n",
       "  <thead>\n",
       "    <tr style=\"text-align: right;\">\n",
       "      <th></th>\n",
       "      <th>tweet_id</th>\n",
       "      <th>timestamp</th>\n",
       "      <th>text</th>\n",
       "      <th>expanded_urls</th>\n",
       "      <th>rating_numerator</th>\n",
       "      <th>rating_denominator</th>\n",
       "      <th>name</th>\n",
       "      <th>doggo</th>\n",
       "      <th>floofer</th>\n",
       "      <th>pupper</th>\n",
       "      <th>puppo</th>\n",
       "    </tr>\n",
       "  </thead>\n",
       "  <tbody>\n",
       "  </tbody>\n",
       "</table>\n",
       "</div>"
      ],
      "text/plain": [
       "Empty DataFrame\n",
       "Columns: [tweet_id, timestamp, text, expanded_urls, rating_numerator, rating_denominator, name, doggo, floofer, pupper, puppo]\n",
       "Index: []"
      ]
     },
     "execution_count": 55,
     "metadata": {},
     "output_type": "execute_result"
    }
   ],
   "source": [
    "archive_twitter_copy[archive_twitter_copy[\"name\"].isin(['a', 'an', 'the', 'getting', 'actually', 'this', 'old', 'all', 'just', 'very'])]"
   ]
  },
  {
   "cell_type": "code",
   "execution_count": 56,
   "metadata": {
    "scrolled": true
   },
   "outputs": [
    {
     "data": {
      "text/plain": [
       "None          647\n",
       "               46\n",
       "Lucy           11\n",
       "Charlie        11\n",
       "Cooper         10\n",
       "Oliver         10\n",
       "Tucker          9\n",
       "Penny           9\n",
       "Sadie           8\n",
       "Winston         8\n",
       "Lola            8\n",
       "Toby            7\n",
       "Daisy           7\n",
       "Bailey          6\n",
       "Stanley         6\n",
       "Oscar           6\n",
       "Jax             6\n",
       "Koda            6\n",
       "Bella           6\n",
       "Bo              6\n",
       "Leo             5\n",
       "Dave            5\n",
       "Scout           5\n",
       "Rusty           5\n",
       "Milo            5\n",
       "Bentley         5\n",
       "Chester         5\n",
       "Louis           5\n",
       "Buddy           5\n",
       "Alfie           4\n",
       "             ... \n",
       "Jiminus         1\n",
       "Henry           1\n",
       "Dex             1\n",
       "Lolo            1\n",
       "Anna            1\n",
       "Beemo           1\n",
       "Miguel          1\n",
       "Halo            1\n",
       "River           1\n",
       "Rolf            1\n",
       "Angel           1\n",
       "Acro            1\n",
       "Darby           1\n",
       "Goliath         1\n",
       "Kara            1\n",
       "Sully           1\n",
       "Fynn            1\n",
       "Autumn          1\n",
       "Ruffles         1\n",
       "Swagger         1\n",
       "Brandonald      1\n",
       "Logan           1\n",
       "Lucia           1\n",
       "Bayley          1\n",
       "Tycho           1\n",
       "Leela           1\n",
       "Mary            1\n",
       "Jeremy          1\n",
       "Clarkus         1\n",
       "Tupawc          1\n",
       "Name: name, Length: 963, dtype: int64"
      ]
     },
     "execution_count": 56,
     "metadata": {},
     "output_type": "execute_result"
    }
   ],
   "source": [
    "archive_twitter_copy.name.value_counts()"
   ]
  },
  {
   "cell_type": "markdown",
   "metadata": {},
   "source": [
    "### Issue #6:\n",
    "\n",
    "`archive_twitter` : Invalid name for Eazy-E instead of Eazy"
   ]
  },
  {
   "cell_type": "markdown",
   "metadata": {},
   "source": [
    "#### Define\n",
    "Replace Eazy by Eazy-E for dog Eazy"
   ]
  },
  {
   "cell_type": "markdown",
   "metadata": {},
   "source": [
    "#### Code"
   ]
  },
  {
   "cell_type": "code",
   "execution_count": 57,
   "metadata": {},
   "outputs": [],
   "source": [
    "archive_twitter_copy[archive_twitter_copy[\"name\"] == 'Eazy'] = 'Eazy-E'\n"
   ]
  },
  {
   "cell_type": "markdown",
   "metadata": {},
   "source": [
    "#### Test"
   ]
  },
  {
   "cell_type": "code",
   "execution_count": 58,
   "metadata": {},
   "outputs": [
    {
     "data": {
      "text/html": [
       "<div>\n",
       "<style scoped>\n",
       "    .dataframe tbody tr th:only-of-type {\n",
       "        vertical-align: middle;\n",
       "    }\n",
       "\n",
       "    .dataframe tbody tr th {\n",
       "        vertical-align: top;\n",
       "    }\n",
       "\n",
       "    .dataframe thead th {\n",
       "        text-align: right;\n",
       "    }\n",
       "</style>\n",
       "<table border=\"1\" class=\"dataframe\">\n",
       "  <thead>\n",
       "    <tr style=\"text-align: right;\">\n",
       "      <th></th>\n",
       "      <th>tweet_id</th>\n",
       "      <th>timestamp</th>\n",
       "      <th>text</th>\n",
       "      <th>expanded_urls</th>\n",
       "      <th>rating_numerator</th>\n",
       "      <th>rating_denominator</th>\n",
       "      <th>name</th>\n",
       "      <th>doggo</th>\n",
       "      <th>floofer</th>\n",
       "      <th>pupper</th>\n",
       "      <th>puppo</th>\n",
       "    </tr>\n",
       "  </thead>\n",
       "  <tbody>\n",
       "  </tbody>\n",
       "</table>\n",
       "</div>"
      ],
      "text/plain": [
       "Empty DataFrame\n",
       "Columns: [tweet_id, timestamp, text, expanded_urls, rating_numerator, rating_denominator, name, doggo, floofer, pupper, puppo]\n",
       "Index: []"
      ]
     },
     "execution_count": 58,
     "metadata": {},
     "output_type": "execute_result"
    }
   ],
   "source": [
    "archive_twitter_copy[archive_twitter_copy[\"name\"] == 'Eazy']\n"
   ]
  },
  {
   "cell_type": "markdown",
   "metadata": {},
   "source": [
    "### Issue #7:\n",
    "\n",
    "`archive_twitter` : Incoherent values for rating_denominator"
   ]
  },
  {
   "cell_type": "markdown",
   "metadata": {},
   "source": [
    "#### Define\n",
    "\n",
    "Drop all columns where rating_denominator is not equal to 10\n",
    "\n",
    "(There are not tto much and it will permit us to have coherent values for rating_denominator)"
   ]
  },
  {
   "cell_type": "markdown",
   "metadata": {},
   "source": [
    "#### Code"
   ]
  },
  {
   "cell_type": "code",
   "execution_count": 59,
   "metadata": {},
   "outputs": [],
   "source": [
    "archive_twitter_copy = archive_twitter_copy[archive_twitter_copy[\"rating_denominator\"] == 10]"
   ]
  },
  {
   "cell_type": "markdown",
   "metadata": {},
   "source": [
    "#### Test"
   ]
  },
  {
   "cell_type": "code",
   "execution_count": 60,
   "metadata": {},
   "outputs": [
    {
     "data": {
      "text/plain": [
       "10    2098\n",
       "Name: rating_denominator, dtype: int64"
      ]
     },
     "execution_count": 60,
     "metadata": {},
     "output_type": "execute_result"
    }
   ],
   "source": [
    "archive_twitter_copy.rating_denominator.value_counts()"
   ]
  },
  {
   "cell_type": "markdown",
   "metadata": {},
   "source": [
    "### Issue #8:\n",
    "\n",
    "`archive_twitter` : 1 variable in four columns (pupper, dogger, flusher, puppo must be the values of one column : dog_stage)\n"
   ]
  },
  {
   "cell_type": "markdown",
   "metadata": {},
   "source": [
    "#### Define\n",
    "\n",
    "Melt four volumns in one column named dog_stage by :\n",
    "- Creating a new column named `dog_stage`\n",
    "- Fill it with the corresponding value or \"\" if the value is None\n",
    "- Deleting the four columns : doggo, pupper, puppo and floofer\n",
    "\n",
    "**Note** : We could use melt and after deleting rows with none value for dog_stage but this will considerably reduce the size of our dataset.\n",
    "\n",
    "And if we don't delete these rows, we will have many duplicated rows so : \n",
    "\n",
    "We are going to use our own functions\n"
   ]
  },
  {
   "cell_type": "markdown",
   "metadata": {},
   "source": [
    "#### Code"
   ]
  },
  {
   "cell_type": "code",
   "execution_count": 65,
   "metadata": {},
   "outputs": [],
   "source": [
    "# When the column has a value different from None, then the value to attribuate is the name of the column for sure ,\n",
    "# Otherwise , the dog is not classified and then the dog_stage for this dog will be \"\"\n",
    "\n",
    "def fill_dog_stage() :\n",
    "    for index, row in archive_twitter_copy.iterrows():\n",
    "        if(row[\"doggo\"] != \"None\"):\n",
    "            value = \"doggo\"\n",
    "        elif (row[\"floofer\"] != \"None\"):\n",
    "            value = \"floofer\"\n",
    "        elif (row[\"pupper\"] != \"None\"):\n",
    "            value = \"pupper\"\n",
    "        elif (row[\"puppo\"] != \"None\"):\n",
    "            value = \"puppo\"\n",
    "        else :\n",
    "            value = \"\"\n",
    "        row['dog_stage'] = value"
   ]
  },
  {
   "cell_type": "code",
   "execution_count": 66,
   "metadata": {},
   "outputs": [],
   "source": [
    "# Create the new colummn\n",
    "archive_twitter_copy['dog_stage'] = \"\"\n",
    "fill_dog_stage()"
   ]
  },
  {
   "cell_type": "code",
   "execution_count": 67,
   "metadata": {},
   "outputs": [
    {
     "data": {
      "text/html": [
       "<div>\n",
       "<style scoped>\n",
       "    .dataframe tbody tr th:only-of-type {\n",
       "        vertical-align: middle;\n",
       "    }\n",
       "\n",
       "    .dataframe tbody tr th {\n",
       "        vertical-align: top;\n",
       "    }\n",
       "\n",
       "    .dataframe thead th {\n",
       "        text-align: right;\n",
       "    }\n",
       "</style>\n",
       "<table border=\"1\" class=\"dataframe\">\n",
       "  <thead>\n",
       "    <tr style=\"text-align: right;\">\n",
       "      <th></th>\n",
       "      <th>tweet_id</th>\n",
       "      <th>timestamp</th>\n",
       "      <th>text</th>\n",
       "      <th>expanded_urls</th>\n",
       "      <th>rating_numerator</th>\n",
       "      <th>rating_denominator</th>\n",
       "      <th>name</th>\n",
       "      <th>doggo</th>\n",
       "      <th>floofer</th>\n",
       "      <th>pupper</th>\n",
       "      <th>puppo</th>\n",
       "      <th>dog_stage</th>\n",
       "    </tr>\n",
       "  </thead>\n",
       "  <tbody>\n",
       "    <tr>\n",
       "      <th>1360</th>\n",
       "      <td>703268521220972544</td>\n",
       "      <td>2016-02-26 17:20:56</td>\n",
       "      <td>Happy Friday here's a sleepy pupper 12/10 http...</td>\n",
       "      <td>https://twitter.com/dog_rates/status/703268521...</td>\n",
       "      <td>12</td>\n",
       "      <td>10</td>\n",
       "      <td>None</td>\n",
       "      <td>None</td>\n",
       "      <td>None</td>\n",
       "      <td>pupper</td>\n",
       "      <td>None</td>\n",
       "      <td>pupper</td>\n",
       "    </tr>\n",
       "    <tr>\n",
       "      <th>236</th>\n",
       "      <td>847251039262605312</td>\n",
       "      <td>2017-03-30 00:56:03</td>\n",
       "      <td>This is Furzey. He's doing an elevated sandy z...</td>\n",
       "      <td>https://twitter.com/dog_rates/status/847251039...</td>\n",
       "      <td>12</td>\n",
       "      <td>10</td>\n",
       "      <td>Furzey</td>\n",
       "      <td>None</td>\n",
       "      <td>None</td>\n",
       "      <td>None</td>\n",
       "      <td>None</td>\n",
       "      <td></td>\n",
       "    </tr>\n",
       "    <tr>\n",
       "      <th>1519</th>\n",
       "      <td>690735892932222976</td>\n",
       "      <td>2016-01-23 03:20:44</td>\n",
       "      <td>Say hello to Peaches. She's a Dingleberry Zand...</td>\n",
       "      <td>https://twitter.com/dog_rates/status/690735892...</td>\n",
       "      <td>13</td>\n",
       "      <td>10</td>\n",
       "      <td>Peaches</td>\n",
       "      <td>None</td>\n",
       "      <td>None</td>\n",
       "      <td>None</td>\n",
       "      <td>None</td>\n",
       "      <td></td>\n",
       "    </tr>\n",
       "    <tr>\n",
       "      <th>1608</th>\n",
       "      <td>685641971164143616</td>\n",
       "      <td>2016-01-09 01:59:19</td>\n",
       "      <td>This is Otis. He just passed a cop while going...</td>\n",
       "      <td>https://twitter.com/dog_rates/status/685641971...</td>\n",
       "      <td>7</td>\n",
       "      <td>10</td>\n",
       "      <td>Otis</td>\n",
       "      <td>None</td>\n",
       "      <td>None</td>\n",
       "      <td>pupper</td>\n",
       "      <td>None</td>\n",
       "      <td>pupper</td>\n",
       "    </tr>\n",
       "    <tr>\n",
       "      <th>1551</th>\n",
       "      <td>689143371370250240</td>\n",
       "      <td>2016-01-18 17:52:38</td>\n",
       "      <td>Meet Trip. He likes wearing costumes that aren...</td>\n",
       "      <td>https://twitter.com/dog_rates/status/689143371...</td>\n",
       "      <td>10</td>\n",
       "      <td>10</td>\n",
       "      <td>Trip</td>\n",
       "      <td>None</td>\n",
       "      <td>None</td>\n",
       "      <td>pupper</td>\n",
       "      <td>None</td>\n",
       "      <td>pupper</td>\n",
       "    </tr>\n",
       "  </tbody>\n",
       "</table>\n",
       "</div>"
      ],
      "text/plain": [
       "                tweet_id            timestamp  \\\n",
       "1360  703268521220972544  2016-02-26 17:20:56   \n",
       "236   847251039262605312  2017-03-30 00:56:03   \n",
       "1519  690735892932222976  2016-01-23 03:20:44   \n",
       "1608  685641971164143616  2016-01-09 01:59:19   \n",
       "1551  689143371370250240  2016-01-18 17:52:38   \n",
       "\n",
       "                                                   text  \\\n",
       "1360  Happy Friday here's a sleepy pupper 12/10 http...   \n",
       "236   This is Furzey. He's doing an elevated sandy z...   \n",
       "1519  Say hello to Peaches. She's a Dingleberry Zand...   \n",
       "1608  This is Otis. He just passed a cop while going...   \n",
       "1551  Meet Trip. He likes wearing costumes that aren...   \n",
       "\n",
       "                                          expanded_urls rating_numerator  \\\n",
       "1360  https://twitter.com/dog_rates/status/703268521...               12   \n",
       "236   https://twitter.com/dog_rates/status/847251039...               12   \n",
       "1519  https://twitter.com/dog_rates/status/690735892...               13   \n",
       "1608  https://twitter.com/dog_rates/status/685641971...                7   \n",
       "1551  https://twitter.com/dog_rates/status/689143371...               10   \n",
       "\n",
       "     rating_denominator     name doggo floofer  pupper puppo dog_stage  \n",
       "1360                 10     None  None    None  pupper  None    pupper  \n",
       "236                  10   Furzey  None    None    None  None            \n",
       "1519                 10  Peaches  None    None    None  None            \n",
       "1608                 10     Otis  None    None  pupper  None    pupper  \n",
       "1551                 10     Trip  None    None  pupper  None    pupper  "
      ]
     },
     "execution_count": 67,
     "metadata": {},
     "output_type": "execute_result"
    }
   ],
   "source": [
    "archive_twitter_copy.sample(5)"
   ]
  },
  {
   "cell_type": "markdown",
   "metadata": {},
   "source": [
    "- Let's delete the doggo , pupper , floofer and puppo column because now useless"
   ]
  },
  {
   "cell_type": "code",
   "execution_count": 68,
   "metadata": {},
   "outputs": [],
   "source": [
    "columns_to_delete = [\"doggo\", \"pupper\", \"floofer\", \"puppo\"]\n",
    "archive_twitter_copy.drop(columns=columns_to_delete, axis=1, inplace=True)"
   ]
  },
  {
   "cell_type": "markdown",
   "metadata": {},
   "source": [
    "#### Test"
   ]
  },
  {
   "cell_type": "code",
   "execution_count": 69,
   "metadata": {},
   "outputs": [
    {
     "name": "stdout",
     "output_type": "stream",
     "text": [
      "<class 'pandas.core.frame.DataFrame'>\n",
      "Int64Index: 2098 entries, 0 to 2355\n",
      "Data columns (total 8 columns):\n",
      "tweet_id              2098 non-null object\n",
      "timestamp             2098 non-null object\n",
      "text                  2098 non-null object\n",
      "expanded_urls         2044 non-null object\n",
      "rating_numerator      2098 non-null object\n",
      "rating_denominator    2098 non-null object\n",
      "name                  2098 non-null object\n",
      "dog_stage             2098 non-null object\n",
      "dtypes: object(8)\n",
      "memory usage: 147.5+ KB\n"
     ]
    }
   ],
   "source": [
    "archive_twitter_copy.info()"
   ]
  },
  {
   "cell_type": "code",
   "execution_count": 70,
   "metadata": {
    "scrolled": true
   },
   "outputs": [
    {
     "data": {
      "text/html": [
       "<div>\n",
       "<style scoped>\n",
       "    .dataframe tbody tr th:only-of-type {\n",
       "        vertical-align: middle;\n",
       "    }\n",
       "\n",
       "    .dataframe tbody tr th {\n",
       "        vertical-align: top;\n",
       "    }\n",
       "\n",
       "    .dataframe thead th {\n",
       "        text-align: right;\n",
       "    }\n",
       "</style>\n",
       "<table border=\"1\" class=\"dataframe\">\n",
       "  <thead>\n",
       "    <tr style=\"text-align: right;\">\n",
       "      <th></th>\n",
       "      <th>tweet_id</th>\n",
       "      <th>timestamp</th>\n",
       "      <th>text</th>\n",
       "      <th>expanded_urls</th>\n",
       "      <th>rating_numerator</th>\n",
       "      <th>rating_denominator</th>\n",
       "      <th>name</th>\n",
       "      <th>dog_stage</th>\n",
       "    </tr>\n",
       "  </thead>\n",
       "  <tbody>\n",
       "    <tr>\n",
       "      <th>126</th>\n",
       "      <td>868552278524837888</td>\n",
       "      <td>2017-05-27 19:39:34</td>\n",
       "      <td>Say hello to Cooper. His expression is the sam...</td>\n",
       "      <td>https://www.gofundme.com/3ti3nps,https://twitt...</td>\n",
       "      <td>12</td>\n",
       "      <td>10</td>\n",
       "      <td>Cooper</td>\n",
       "      <td></td>\n",
       "    </tr>\n",
       "    <tr>\n",
       "      <th>828</th>\n",
       "      <td>768970937022709760</td>\n",
       "      <td>2016-08-26 00:38:52</td>\n",
       "      <td>This is Kirby. His bowl weighs more than him. ...</td>\n",
       "      <td>https://twitter.com/dog_rates/status/768970937...</td>\n",
       "      <td>12</td>\n",
       "      <td>10</td>\n",
       "      <td>Kirby</td>\n",
       "      <td></td>\n",
       "    </tr>\n",
       "    <tr>\n",
       "      <th>47</th>\n",
       "      <td>883117836046086144</td>\n",
       "      <td>2017-07-07 00:17:54</td>\n",
       "      <td>Please only send dogs. We don't rate mechanics...</td>\n",
       "      <td>https://twitter.com/dog_rates/status/883117836...</td>\n",
       "      <td>13</td>\n",
       "      <td>10</td>\n",
       "      <td>None</td>\n",
       "      <td></td>\n",
       "    </tr>\n",
       "    <tr>\n",
       "      <th>215</th>\n",
       "      <td>851224888060895234</td>\n",
       "      <td>2017-04-10 00:06:42</td>\n",
       "      <td>Meet Snoop. His number one passion is sticking...</td>\n",
       "      <td>https://twitter.com/dog_rates/status/851224888...</td>\n",
       "      <td>13</td>\n",
       "      <td>10</td>\n",
       "      <td>Snoop</td>\n",
       "      <td></td>\n",
       "    </tr>\n",
       "    <tr>\n",
       "      <th>1078</th>\n",
       "      <td>739485634323156992</td>\n",
       "      <td>2016-06-05 15:54:48</td>\n",
       "      <td>This is Kyle. He's a heavy drinker and an avid...</td>\n",
       "      <td>https://twitter.com/dog_rates/status/739485634...</td>\n",
       "      <td>6</td>\n",
       "      <td>10</td>\n",
       "      <td>Kyle</td>\n",
       "      <td></td>\n",
       "    </tr>\n",
       "    <tr>\n",
       "      <th>2021</th>\n",
       "      <td>672082170312290304</td>\n",
       "      <td>2015-12-02 15:57:30</td>\n",
       "      <td>This is Patch. He wants to be a Christmas tree...</td>\n",
       "      <td>https://twitter.com/dog_rates/status/672082170...</td>\n",
       "      <td>11</td>\n",
       "      <td>10</td>\n",
       "      <td>Patch</td>\n",
       "      <td></td>\n",
       "    </tr>\n",
       "    <tr>\n",
       "      <th>1331</th>\n",
       "      <td>705591895322394625</td>\n",
       "      <td>2016-03-04 03:13:11</td>\n",
       "      <td>\"Ma'am, for the last time, I'm not authorized ...</td>\n",
       "      <td>https://twitter.com/dog_rates/status/705591895...</td>\n",
       "      <td>11</td>\n",
       "      <td>10</td>\n",
       "      <td>None</td>\n",
       "      <td></td>\n",
       "    </tr>\n",
       "    <tr>\n",
       "      <th>645</th>\n",
       "      <td>793165685325201412</td>\n",
       "      <td>2016-10-31 19:00:10</td>\n",
       "      <td>This is Benji. He's Air Bud. It's a low effort...</td>\n",
       "      <td>https://twitter.com/dog_rates/status/793165685...</td>\n",
       "      <td>12</td>\n",
       "      <td>10</td>\n",
       "      <td>Benji</td>\n",
       "      <td></td>\n",
       "    </tr>\n",
       "    <tr>\n",
       "      <th>722</th>\n",
       "      <td>783085703974514689</td>\n",
       "      <td>2016-10-03 23:25:55</td>\n",
       "      <td>This is Earl. He can't catch. Did his best tho...</td>\n",
       "      <td>https://twitter.com/dog_rates/status/783085703...</td>\n",
       "      <td>11</td>\n",
       "      <td>10</td>\n",
       "      <td>Earl</td>\n",
       "      <td></td>\n",
       "    </tr>\n",
       "    <tr>\n",
       "      <th>2149</th>\n",
       "      <td>669684865554620416</td>\n",
       "      <td>2015-11-26 01:11:28</td>\n",
       "      <td>After countless hours of research and hundreds...</td>\n",
       "      <td>NaN</td>\n",
       "      <td>11</td>\n",
       "      <td>10</td>\n",
       "      <td>None</td>\n",
       "      <td></td>\n",
       "    </tr>\n",
       "    <tr>\n",
       "      <th>762</th>\n",
       "      <td>778039087836069888</td>\n",
       "      <td>2016-09-20 01:12:28</td>\n",
       "      <td>Evolution of a pupper yawn featuring Max. 12/1...</td>\n",
       "      <td>https://twitter.com/dog_rates/status/778039087...</td>\n",
       "      <td>12</td>\n",
       "      <td>10</td>\n",
       "      <td>None</td>\n",
       "      <td>pupper</td>\n",
       "    </tr>\n",
       "    <tr>\n",
       "      <th>1676</th>\n",
       "      <td>682088079302213632</td>\n",
       "      <td>2015-12-30 06:37:25</td>\n",
       "      <td>I'm not sure what this dog is doing but it's p...</td>\n",
       "      <td>https://vine.co/v/iqMjlxULzbn</td>\n",
       "      <td>12</td>\n",
       "      <td>10</td>\n",
       "      <td>None</td>\n",
       "      <td></td>\n",
       "    </tr>\n",
       "    <tr>\n",
       "      <th>1964</th>\n",
       "      <td>673350198937153538</td>\n",
       "      <td>2015-12-06 03:56:12</td>\n",
       "      <td>This is Bella. She's a Genghis Flopped Canuck....</td>\n",
       "      <td>https://twitter.com/dog_rates/status/673350198...</td>\n",
       "      <td>9</td>\n",
       "      <td>10</td>\n",
       "      <td>Bella</td>\n",
       "      <td></td>\n",
       "    </tr>\n",
       "    <tr>\n",
       "      <th>2235</th>\n",
       "      <td>668171859951755264</td>\n",
       "      <td>2015-11-21 20:59:20</td>\n",
       "      <td>This is a Trans Siberian Kellogg named Alfonso...</td>\n",
       "      <td>https://twitter.com/dog_rates/status/668171859...</td>\n",
       "      <td>7</td>\n",
       "      <td>10</td>\n",
       "      <td>Alfonso</td>\n",
       "      <td></td>\n",
       "    </tr>\n",
       "    <tr>\n",
       "      <th>1535</th>\n",
       "      <td>689977555533848577</td>\n",
       "      <td>2016-01-21 01:07:23</td>\n",
       "      <td>Happy Wednesday here's a pup wearing a beret. ...</td>\n",
       "      <td>https://twitter.com/dog_rates/status/689977555...</td>\n",
       "      <td>12</td>\n",
       "      <td>10</td>\n",
       "      <td>None</td>\n",
       "      <td></td>\n",
       "    </tr>\n",
       "    <tr>\n",
       "      <th>1941</th>\n",
       "      <td>673715861853720576</td>\n",
       "      <td>2015-12-07 04:09:13</td>\n",
       "      <td>This is a heavily opinionated dog. Loves walls...</td>\n",
       "      <td>https://twitter.com/dog_rates/status/673715861...</td>\n",
       "      <td>4</td>\n",
       "      <td>10</td>\n",
       "      <td></td>\n",
       "      <td></td>\n",
       "    </tr>\n",
       "    <tr>\n",
       "      <th>1695</th>\n",
       "      <td>681261549936340994</td>\n",
       "      <td>2015-12-27 23:53:05</td>\n",
       "      <td>Say hello to Panda. He's a Quackadilly Shooste...</td>\n",
       "      <td>https://twitter.com/dog_rates/status/681261549...</td>\n",
       "      <td>9</td>\n",
       "      <td>10</td>\n",
       "      <td>Panda</td>\n",
       "      <td></td>\n",
       "    </tr>\n",
       "    <tr>\n",
       "      <th>1555</th>\n",
       "      <td>688894073864884227</td>\n",
       "      <td>2016-01-18 01:22:00</td>\n",
       "      <td>This is Hamrick. He's covered in corn flakes. ...</td>\n",
       "      <td>https://twitter.com/dog_rates/status/688894073...</td>\n",
       "      <td>7</td>\n",
       "      <td>10</td>\n",
       "      <td>Hamrick</td>\n",
       "      <td>pupper</td>\n",
       "    </tr>\n",
       "    <tr>\n",
       "      <th>198</th>\n",
       "      <td>854365224396361728</td>\n",
       "      <td>2017-04-18 16:05:17</td>\n",
       "      <td>This is Einstein. He's having a really good da...</td>\n",
       "      <td>https://twitter.com/dog_rates/status/854365224...</td>\n",
       "      <td>13</td>\n",
       "      <td>10</td>\n",
       "      <td>Einstein</td>\n",
       "      <td></td>\n",
       "    </tr>\n",
       "    <tr>\n",
       "      <th>1306</th>\n",
       "      <td>707377100785885184</td>\n",
       "      <td>2016-03-09 01:26:57</td>\n",
       "      <td>This dog just brutally murdered a snowman. Cur...</td>\n",
       "      <td>https://twitter.com/dog_rates/status/707377100...</td>\n",
       "      <td>9</td>\n",
       "      <td>10</td>\n",
       "      <td>None</td>\n",
       "      <td></td>\n",
       "    </tr>\n",
       "    <tr>\n",
       "      <th>2084</th>\n",
       "      <td>670807719151067136</td>\n",
       "      <td>2015-11-29 03:33:17</td>\n",
       "      <td>Say hello to Andy. He can balance on one foot,...</td>\n",
       "      <td>https://twitter.com/dog_rates/status/670807719...</td>\n",
       "      <td>11</td>\n",
       "      <td>10</td>\n",
       "      <td>Andy</td>\n",
       "      <td></td>\n",
       "    </tr>\n",
       "    <tr>\n",
       "      <th>1807</th>\n",
       "      <td>676916996760600576</td>\n",
       "      <td>2015-12-16 00:09:23</td>\n",
       "      <td>Super speedy pupper. Does not go gentle into t...</td>\n",
       "      <td>https://vine.co/v/imJ0BdZOJTw</td>\n",
       "      <td>10</td>\n",
       "      <td>10</td>\n",
       "      <td>None</td>\n",
       "      <td>pupper</td>\n",
       "    </tr>\n",
       "    <tr>\n",
       "      <th>839</th>\n",
       "      <td>767191397493538821</td>\n",
       "      <td>2016-08-21 02:47:37</td>\n",
       "      <td>I don't know any of the backstory behind this ...</td>\n",
       "      <td>https://twitter.com/dog_rates/status/767191397...</td>\n",
       "      <td>13</td>\n",
       "      <td>10</td>\n",
       "      <td>None</td>\n",
       "      <td>doggo</td>\n",
       "    </tr>\n",
       "    <tr>\n",
       "      <th>2253</th>\n",
       "      <td>667793409583771648</td>\n",
       "      <td>2015-11-20 19:55:30</td>\n",
       "      <td>Dogs only please. Small cows and other non can...</td>\n",
       "      <td>https://twitter.com/dog_rates/status/667793409...</td>\n",
       "      <td>8</td>\n",
       "      <td>10</td>\n",
       "      <td>None</td>\n",
       "      <td></td>\n",
       "    </tr>\n",
       "    <tr>\n",
       "      <th>1428</th>\n",
       "      <td>697616773278015490</td>\n",
       "      <td>2016-02-11 03:02:54</td>\n",
       "      <td>This pupper doubles as a hallway rug. Very rar...</td>\n",
       "      <td>https://twitter.com/dog_rates/status/697616773...</td>\n",
       "      <td>11</td>\n",
       "      <td>10</td>\n",
       "      <td>None</td>\n",
       "      <td>pupper</td>\n",
       "    </tr>\n",
       "  </tbody>\n",
       "</table>\n",
       "</div>"
      ],
      "text/plain": [
       "                tweet_id            timestamp  \\\n",
       "126   868552278524837888  2017-05-27 19:39:34   \n",
       "828   768970937022709760  2016-08-26 00:38:52   \n",
       "47    883117836046086144  2017-07-07 00:17:54   \n",
       "215   851224888060895234  2017-04-10 00:06:42   \n",
       "1078  739485634323156992  2016-06-05 15:54:48   \n",
       "2021  672082170312290304  2015-12-02 15:57:30   \n",
       "1331  705591895322394625  2016-03-04 03:13:11   \n",
       "645   793165685325201412  2016-10-31 19:00:10   \n",
       "722   783085703974514689  2016-10-03 23:25:55   \n",
       "2149  669684865554620416  2015-11-26 01:11:28   \n",
       "762   778039087836069888  2016-09-20 01:12:28   \n",
       "1676  682088079302213632  2015-12-30 06:37:25   \n",
       "1964  673350198937153538  2015-12-06 03:56:12   \n",
       "2235  668171859951755264  2015-11-21 20:59:20   \n",
       "1535  689977555533848577  2016-01-21 01:07:23   \n",
       "1941  673715861853720576  2015-12-07 04:09:13   \n",
       "1695  681261549936340994  2015-12-27 23:53:05   \n",
       "1555  688894073864884227  2016-01-18 01:22:00   \n",
       "198   854365224396361728  2017-04-18 16:05:17   \n",
       "1306  707377100785885184  2016-03-09 01:26:57   \n",
       "2084  670807719151067136  2015-11-29 03:33:17   \n",
       "1807  676916996760600576  2015-12-16 00:09:23   \n",
       "839   767191397493538821  2016-08-21 02:47:37   \n",
       "2253  667793409583771648  2015-11-20 19:55:30   \n",
       "1428  697616773278015490  2016-02-11 03:02:54   \n",
       "\n",
       "                                                   text  \\\n",
       "126   Say hello to Cooper. His expression is the sam...   \n",
       "828   This is Kirby. His bowl weighs more than him. ...   \n",
       "47    Please only send dogs. We don't rate mechanics...   \n",
       "215   Meet Snoop. His number one passion is sticking...   \n",
       "1078  This is Kyle. He's a heavy drinker and an avid...   \n",
       "2021  This is Patch. He wants to be a Christmas tree...   \n",
       "1331  \"Ma'am, for the last time, I'm not authorized ...   \n",
       "645   This is Benji. He's Air Bud. It's a low effort...   \n",
       "722   This is Earl. He can't catch. Did his best tho...   \n",
       "2149  After countless hours of research and hundreds...   \n",
       "762   Evolution of a pupper yawn featuring Max. 12/1...   \n",
       "1676  I'm not sure what this dog is doing but it's p...   \n",
       "1964  This is Bella. She's a Genghis Flopped Canuck....   \n",
       "2235  This is a Trans Siberian Kellogg named Alfonso...   \n",
       "1535  Happy Wednesday here's a pup wearing a beret. ...   \n",
       "1941  This is a heavily opinionated dog. Loves walls...   \n",
       "1695  Say hello to Panda. He's a Quackadilly Shooste...   \n",
       "1555  This is Hamrick. He's covered in corn flakes. ...   \n",
       "198   This is Einstein. He's having a really good da...   \n",
       "1306  This dog just brutally murdered a snowman. Cur...   \n",
       "2084  Say hello to Andy. He can balance on one foot,...   \n",
       "1807  Super speedy pupper. Does not go gentle into t...   \n",
       "839   I don't know any of the backstory behind this ...   \n",
       "2253  Dogs only please. Small cows and other non can...   \n",
       "1428  This pupper doubles as a hallway rug. Very rar...   \n",
       "\n",
       "                                          expanded_urls rating_numerator  \\\n",
       "126   https://www.gofundme.com/3ti3nps,https://twitt...               12   \n",
       "828   https://twitter.com/dog_rates/status/768970937...               12   \n",
       "47    https://twitter.com/dog_rates/status/883117836...               13   \n",
       "215   https://twitter.com/dog_rates/status/851224888...               13   \n",
       "1078  https://twitter.com/dog_rates/status/739485634...                6   \n",
       "2021  https://twitter.com/dog_rates/status/672082170...               11   \n",
       "1331  https://twitter.com/dog_rates/status/705591895...               11   \n",
       "645   https://twitter.com/dog_rates/status/793165685...               12   \n",
       "722   https://twitter.com/dog_rates/status/783085703...               11   \n",
       "2149                                                NaN               11   \n",
       "762   https://twitter.com/dog_rates/status/778039087...               12   \n",
       "1676                      https://vine.co/v/iqMjlxULzbn               12   \n",
       "1964  https://twitter.com/dog_rates/status/673350198...                9   \n",
       "2235  https://twitter.com/dog_rates/status/668171859...                7   \n",
       "1535  https://twitter.com/dog_rates/status/689977555...               12   \n",
       "1941  https://twitter.com/dog_rates/status/673715861...                4   \n",
       "1695  https://twitter.com/dog_rates/status/681261549...                9   \n",
       "1555  https://twitter.com/dog_rates/status/688894073...                7   \n",
       "198   https://twitter.com/dog_rates/status/854365224...               13   \n",
       "1306  https://twitter.com/dog_rates/status/707377100...                9   \n",
       "2084  https://twitter.com/dog_rates/status/670807719...               11   \n",
       "1807                      https://vine.co/v/imJ0BdZOJTw               10   \n",
       "839   https://twitter.com/dog_rates/status/767191397...               13   \n",
       "2253  https://twitter.com/dog_rates/status/667793409...                8   \n",
       "1428  https://twitter.com/dog_rates/status/697616773...               11   \n",
       "\n",
       "     rating_denominator      name dog_stage  \n",
       "126                  10    Cooper            \n",
       "828                  10     Kirby            \n",
       "47                   10      None            \n",
       "215                  10     Snoop            \n",
       "1078                 10      Kyle            \n",
       "2021                 10     Patch            \n",
       "1331                 10      None            \n",
       "645                  10     Benji            \n",
       "722                  10      Earl            \n",
       "2149                 10      None            \n",
       "762                  10      None    pupper  \n",
       "1676                 10      None            \n",
       "1964                 10     Bella            \n",
       "2235                 10   Alfonso            \n",
       "1535                 10      None            \n",
       "1941                 10                      \n",
       "1695                 10     Panda            \n",
       "1555                 10   Hamrick    pupper  \n",
       "198                  10  Einstein            \n",
       "1306                 10      None            \n",
       "2084                 10      Andy            \n",
       "1807                 10      None    pupper  \n",
       "839                  10      None     doggo  \n",
       "2253                 10      None            \n",
       "1428                 10      None    pupper  "
      ]
     },
     "execution_count": 70,
     "metadata": {},
     "output_type": "execute_result"
    }
   ],
   "source": [
    "archive_twitter_copy.sample(25)"
   ]
  },
  {
   "cell_type": "markdown",
   "metadata": {},
   "source": [
    "### Issue #9:\n",
    "\n",
    "`archive_twitter` : Missing values for dog_stage(pupper, dogger, flusher and puppo) whereas some can be getted form the text column)"
   ]
  },
  {
   "cell_type": "markdown",
   "metadata": {},
   "source": [
    "#### Define\n",
    "\n",
    "- Define a function which will search if there is an clue in the text column and then replace the dog_stage value by the corresponding value accoridng to the clue. When no clue foounnd, values will remain as they were\n",
    "-Apply the function"
   ]
  },
  {
   "cell_type": "markdown",
   "metadata": {},
   "source": [
    "#### Code"
   ]
  },
  {
   "cell_type": "code",
   "execution_count": 75,
   "metadata": {},
   "outputs": [],
   "source": [
    "def complete_data_for_dog_stage(index):\n",
    "    if \"doggo\" in archive_twitter_copy.loc[index,'text'].lower() :\n",
    "        val = \"doggo\"\n",
    "    elif \"floofer\" in archive_twitter_copy.loc[index,'text'].lower() :\n",
    "        val = \"floofer\"\n",
    "    elif \"pupper\" in archive_twitter_copy.loc[index,'text'].lower() :\n",
    "        val = \"pupper\"\n",
    "    elif \"puppo\" in archive_twitter_copy.loc[index,'text'].lower() :\n",
    "        val = \"puppo\"\n",
    "    else :\n",
    "        val = \"\"\n",
    "    return val"
   ]
  },
  {
   "cell_type": "code",
   "execution_count": 76,
   "metadata": {},
   "outputs": [],
   "source": [
    "row_index = archive_twitter_copy.index[archive_twitter_copy.dog_stage.isnull()].tolist()\n",
    "df = []\n",
    "for index in row_index :\n",
    "    archive_twitter_copy.loc[index, 'dog_stage'] = complete_data_for_dog_stage(index)"
   ]
  },
  {
   "cell_type": "markdown",
   "metadata": {},
   "source": [
    "#### Test"
   ]
  },
  {
   "cell_type": "code",
   "execution_count": 80,
   "metadata": {},
   "outputs": [
    {
     "data": {
      "text/plain": [
       "344"
      ]
     },
     "execution_count": 80,
     "metadata": {},
     "output_type": "execute_result"
    }
   ],
   "source": [
    "sum(archive_twitter_copy['dog_stage'] != \"\")"
   ]
  },
  {
   "cell_type": "markdown",
   "metadata": {},
   "source": [
    "### Issue #10:\n",
    "\n",
    "`images_prediction` : Useless columns for analysis: low data quality (jpg_url,img_num ....)\n"
   ]
  },
  {
   "cell_type": "markdown",
   "metadata": {},
   "source": [
    "#### Define\n",
    "\n",
    "Drop columns that are useless"
   ]
  },
  {
   "cell_type": "markdown",
   "metadata": {},
   "source": [
    "#### Code"
   ]
  },
  {
   "cell_type": "code",
   "execution_count": 81,
   "metadata": {},
   "outputs": [],
   "source": [
    "images_prediction_copy.drop(columns=['img_num', 'jpg_url'], axis=1, inplace=True)"
   ]
  },
  {
   "cell_type": "markdown",
   "metadata": {},
   "source": [
    "#### Test"
   ]
  },
  {
   "cell_type": "code",
   "execution_count": 82,
   "metadata": {},
   "outputs": [
    {
     "name": "stdout",
     "output_type": "stream",
     "text": [
      "<class 'pandas.core.frame.DataFrame'>\n",
      "RangeIndex: 2075 entries, 0 to 2074\n",
      "Data columns (total 10 columns):\n",
      "tweet_id    2075 non-null int64\n",
      "p1          2075 non-null object\n",
      "p1_conf     2075 non-null float64\n",
      "p1_dog      2075 non-null bool\n",
      "p2          2075 non-null object\n",
      "p2_conf     2075 non-null float64\n",
      "p2_dog      2075 non-null bool\n",
      "p3          2075 non-null object\n",
      "p3_conf     2075 non-null float64\n",
      "p3_dog      2075 non-null bool\n",
      "dtypes: bool(3), float64(3), int64(1), object(3)\n",
      "memory usage: 119.6+ KB\n"
     ]
    }
   ],
   "source": [
    "images_prediction_copy.info()"
   ]
  },
  {
   "cell_type": "markdown",
   "metadata": {},
   "source": [
    "### Issue #11:\n",
    "\n",
    "`images_prediction` : Every row should be an observation : one prediction with the most prediction percentage should be then considered and the others removed"
   ]
  },
  {
   "cell_type": "markdown",
   "metadata": {},
   "source": [
    "#### Define\n",
    "\n",
    "- Create three columns :\n",
    "    - conf : for the percentage of prediction retained ; \n",
    "    - dog_breed for the breed of the dog and \n",
    "    - is_dog_purebred for indicate if its a purebred or not\n",
    "- Compare the percentages of prediction (pi_conf for i in {1,2,3} )\n",
    "- Choose the values of breed of the dog and the boolean indicating if it is purebred or not and fill it in the new columns\n",
    "- Drop the now useless columns"
   ]
  },
  {
   "cell_type": "markdown",
   "metadata": {},
   "source": [
    "#### Code"
   ]
  },
  {
   "cell_type": "code",
   "execution_count": 87,
   "metadata": {},
   "outputs": [],
   "source": [
    "# Compare the percentage of predictions and choose the best values to fill in the news columns\n",
    "def keep_best_prediction(index):\n",
    "    if images_prediction_copy.loc[index,'p1_conf'] > images_prediction_copy.loc[index, 'p2_conf'] and images_prediction_copy.loc[index,'p1_conf'] > images_prediction_copy.loc[index,'p3_conf'] :\n",
    "        images_prediction_copy.loc[index, 'conf'] =  images_prediction_copy.loc[index,'p1_conf']\n",
    "        images_prediction_copy.loc[index, 'dog_breed'] =  images_prediction_copy.loc[index,'p1']\n",
    "        images_prediction_copy.loc[index, 'is_dog_purebred'] =  images_prediction_copy.loc[index,'p1_dog']\n",
    "        \n",
    "    elif images_prediction_copy.loc[index, 'p2_conf'] > images_prediction_copy.loc[index, 'p1_conf'] and images_prediction_copy.loc[index, 'p2_conf'] > images_prediction_copy.loc[index,'p3_conf'] :\n",
    "        images_prediction_copy.loc[index, 'conf'] =  images_prediction_copy.loc[index,'p2_conf']\n",
    "        images_prediction_copy.loc[index, 'dog_breed'] =  images_prediction_copy.loc[index,'p2']\n",
    "        images_prediction_copy.loc[index, 'is_dog_purebred'] =  images_prediction_copy.loc[index,'p2_dog']\n",
    "        \n",
    "    elif images_prediction_copy.loc[index, 'p3_conf'] > images_prediction_copy.loc[index, 'p1_conf'] and images_prediction_copy.loc[index, 'p3_conf'] > images_prediction_copy.loc[index,'p2_conf'] :\n",
    "        images_prediction_copy.loc[index, 'conf'] =  images_prediction_copy.loc[index,'p3_conf']\n",
    "        images_prediction_copy.loc[index, 'dog_breed'] =  images_prediction_copy.loc[index,'p3']\n",
    "        images_prediction_copy.loc[index, 'is_dog_purebred'] =  images_prediction_copy.loc[index,'p3_dog']\n",
    "   "
   ]
  },
  {
   "cell_type": "code",
   "execution_count": 88,
   "metadata": {},
   "outputs": [],
   "source": [
    "images_prediction_copy['conf'] = 0.0\n",
    "images_prediction_copy['dog_breed'] = \"\"\n",
    "images_prediction_copy['is_dog_purebred'] = False\n",
    "\n",
    "row_index = images_prediction_copy.index.tolist()\n",
    "\n",
    "for index in row_index :\n",
    "    keep_best_prediction(index)\n"
   ]
  },
  {
   "cell_type": "code",
   "execution_count": 90,
   "metadata": {},
   "outputs": [],
   "source": [
    "# Now let's delete the useless columns\n",
    "columns_to_delete = [\"p1_conf\", \"p1\", \"p1_dog\", \"p2_conf\", \"p2\", \"p2_dog\", \"p3_conf\", \"p3\", \"p3_dog\"]\n",
    "images_prediction_copy.drop(columns=columns_to_delete, axis=1, inplace=True)"
   ]
  },
  {
   "cell_type": "markdown",
   "metadata": {},
   "source": [
    "#### Test"
   ]
  },
  {
   "cell_type": "code",
   "execution_count": 92,
   "metadata": {},
   "outputs": [
    {
     "data": {
      "text/html": [
       "<div>\n",
       "<style scoped>\n",
       "    .dataframe tbody tr th:only-of-type {\n",
       "        vertical-align: middle;\n",
       "    }\n",
       "\n",
       "    .dataframe tbody tr th {\n",
       "        vertical-align: top;\n",
       "    }\n",
       "\n",
       "    .dataframe thead th {\n",
       "        text-align: right;\n",
       "    }\n",
       "</style>\n",
       "<table border=\"1\" class=\"dataframe\">\n",
       "  <thead>\n",
       "    <tr style=\"text-align: right;\">\n",
       "      <th></th>\n",
       "      <th>tweet_id</th>\n",
       "      <th>conf</th>\n",
       "      <th>dog_breed</th>\n",
       "      <th>is_dog_purebred</th>\n",
       "    </tr>\n",
       "  </thead>\n",
       "  <tbody>\n",
       "    <tr>\n",
       "      <th>1115</th>\n",
       "      <td>724983749226668032</td>\n",
       "      <td>0.675750</td>\n",
       "      <td>golden_retriever</td>\n",
       "      <td>True</td>\n",
       "    </tr>\n",
       "    <tr>\n",
       "      <th>1558</th>\n",
       "      <td>793241302385262592</td>\n",
       "      <td>0.559308</td>\n",
       "      <td>golden_retriever</td>\n",
       "      <td>True</td>\n",
       "    </tr>\n",
       "    <tr>\n",
       "      <th>779</th>\n",
       "      <td>689905486972461056</td>\n",
       "      <td>0.943331</td>\n",
       "      <td>Pomeranian</td>\n",
       "      <td>True</td>\n",
       "    </tr>\n",
       "    <tr>\n",
       "      <th>1459</th>\n",
       "      <td>778027034220126208</td>\n",
       "      <td>0.946718</td>\n",
       "      <td>clumber</td>\n",
       "      <td>True</td>\n",
       "    </tr>\n",
       "    <tr>\n",
       "      <th>1541</th>\n",
       "      <td>791026214425268224</td>\n",
       "      <td>0.375098</td>\n",
       "      <td>malamute</td>\n",
       "      <td>True</td>\n",
       "    </tr>\n",
       "    <tr>\n",
       "      <th>257</th>\n",
       "      <td>670778058496974848</td>\n",
       "      <td>0.776612</td>\n",
       "      <td>pug</td>\n",
       "      <td>True</td>\n",
       "    </tr>\n",
       "    <tr>\n",
       "      <th>319</th>\n",
       "      <td>671768281401958400</td>\n",
       "      <td>0.500373</td>\n",
       "      <td>Chihuahua</td>\n",
       "      <td>True</td>\n",
       "    </tr>\n",
       "    <tr>\n",
       "      <th>1496</th>\n",
       "      <td>783391753726550016</td>\n",
       "      <td>0.877130</td>\n",
       "      <td>Norwegian_elkhound</td>\n",
       "      <td>True</td>\n",
       "    </tr>\n",
       "    <tr>\n",
       "      <th>571</th>\n",
       "      <td>678399652199309312</td>\n",
       "      <td>0.929196</td>\n",
       "      <td>swing</td>\n",
       "      <td>False</td>\n",
       "    </tr>\n",
       "    <tr>\n",
       "      <th>299</th>\n",
       "      <td>671486386088865792</td>\n",
       "      <td>0.827035</td>\n",
       "      <td>German_shepherd</td>\n",
       "      <td>True</td>\n",
       "    </tr>\n",
       "  </tbody>\n",
       "</table>\n",
       "</div>"
      ],
      "text/plain": [
       "                tweet_id      conf           dog_breed  is_dog_purebred\n",
       "1115  724983749226668032  0.675750    golden_retriever             True\n",
       "1558  793241302385262592  0.559308    golden_retriever             True\n",
       "779   689905486972461056  0.943331          Pomeranian             True\n",
       "1459  778027034220126208  0.946718             clumber             True\n",
       "1541  791026214425268224  0.375098            malamute             True\n",
       "257   670778058496974848  0.776612                 pug             True\n",
       "319   671768281401958400  0.500373           Chihuahua             True\n",
       "1496  783391753726550016  0.877130  Norwegian_elkhound             True\n",
       "571   678399652199309312  0.929196               swing            False\n",
       "299   671486386088865792  0.827035     German_shepherd             True"
      ]
     },
     "execution_count": 92,
     "metadata": {},
     "output_type": "execute_result"
    }
   ],
   "source": [
    "images_prediction_copy.sample(10)"
   ]
  },
  {
   "cell_type": "markdown",
   "metadata": {},
   "source": [
    "### Merge DataFrames:\n",
    "\n"
   ]
  },
  {
   "cell_type": "markdown",
   "metadata": {},
   "source": [
    "#### Define\n",
    "\n",
    "Merge dataframes `archive_twitter_copy`, `like_retweet_copy` and `images_prediction_copy` on tweet_id with a inner join"
   ]
  },
  {
   "cell_type": "code",
   "execution_count": 98,
   "metadata": {},
   "outputs": [
    {
     "name": "stdout",
     "output_type": "stream",
     "text": [
      "<class 'pandas.core.frame.DataFrame'>\n",
      "Int64Index: 2098 entries, 0 to 2355\n",
      "Data columns (total 8 columns):\n",
      "tweet_id              2098 non-null object\n",
      "timestamp             2098 non-null object\n",
      "text                  2098 non-null object\n",
      "expanded_urls         2044 non-null object\n",
      "rating_numerator      2098 non-null object\n",
      "rating_denominator    2098 non-null object\n",
      "name                  2098 non-null object\n",
      "dog_stage             2098 non-null object\n",
      "dtypes: object(8)\n",
      "memory usage: 147.5+ KB\n"
     ]
    }
   ],
   "source": [
    "archive_twitter_copy.info()"
   ]
  },
  {
   "cell_type": "markdown",
   "metadata": {},
   "source": [
    "`Tweet_id` Column has been unfortunately converted to string : Let's take it back to int\n",
    "`timestamps` Column has been unfortunately converted to string : Let's take it to datetime"
   ]
  },
  {
   "cell_type": "code",
   "execution_count": 102,
   "metadata": {},
   "outputs": [
    {
     "name": "stdout",
     "output_type": "stream",
     "text": [
      "<class 'pandas.core.frame.DataFrame'>\n",
      "Int64Index: 2098 entries, 0 to 2355\n",
      "Data columns (total 8 columns):\n",
      "tweet_id              2098 non-null int64\n",
      "timestamp             2098 non-null datetime64[ns]\n",
      "text                  2098 non-null object\n",
      "expanded_urls         2044 non-null object\n",
      "rating_numerator      2098 non-null object\n",
      "rating_denominator    2098 non-null object\n",
      "name                  2098 non-null object\n",
      "dog_stage             2098 non-null object\n",
      "dtypes: datetime64[ns](1), int64(1), object(6)\n",
      "memory usage: 147.5+ KB\n"
     ]
    }
   ],
   "source": [
    "archive_twitter_copy.tweet_id = archive_twitter_copy.tweet_id.astype(int)\n",
    "archive_twitter_copy.timestamp = pd.to_datetime(archive_twitter_copy['timestamp'])\n",
    "\n",
    "archive_twitter_copy.info()"
   ]
  },
  {
   "cell_type": "code",
   "execution_count": 103,
   "metadata": {},
   "outputs": [
    {
     "name": "stdout",
     "output_type": "stream",
     "text": [
      "<class 'pandas.core.frame.DataFrame'>\n",
      "RangeIndex: 2327 entries, 0 to 2326\n",
      "Data columns (total 3 columns):\n",
      "tweet_id          2327 non-null int64\n",
      "likes_count       2327 non-null int64\n",
      "retweets_count    2327 non-null int64\n",
      "dtypes: int64(3)\n",
      "memory usage: 54.6 KB\n"
     ]
    }
   ],
   "source": [
    "like_retweet_copy.info()"
   ]
  },
  {
   "cell_type": "code",
   "execution_count": 104,
   "metadata": {},
   "outputs": [
    {
     "name": "stdout",
     "output_type": "stream",
     "text": [
      "<class 'pandas.core.frame.DataFrame'>\n",
      "RangeIndex: 2075 entries, 0 to 2074\n",
      "Data columns (total 4 columns):\n",
      "tweet_id           2075 non-null int64\n",
      "conf               2075 non-null float64\n",
      "dog_breed          2075 non-null object\n",
      "is_dog_purebred    2075 non-null bool\n",
      "dtypes: bool(1), float64(1), int64(1), object(1)\n",
      "memory usage: 50.7+ KB\n"
     ]
    }
   ],
   "source": [
    "images_prediction_copy.info()"
   ]
  },
  {
   "cell_type": "code",
   "execution_count": 105,
   "metadata": {},
   "outputs": [],
   "source": [
    "datas_cleaned = pd.merge(archive_twitter_copy, like_retweet_copy, on ='tweet_id', how ='inner')"
   ]
  },
  {
   "cell_type": "code",
   "execution_count": 106,
   "metadata": {},
   "outputs": [],
   "source": [
    "datas_cleaned = pd.merge(datas_cleaned, images_prediction_copy, on =[\"tweet_id\"], how ='inner')"
   ]
  },
  {
   "cell_type": "code",
   "execution_count": 107,
   "metadata": {},
   "outputs": [
    {
     "data": {
      "text/plain": [
       "(1915, 13)"
      ]
     },
     "execution_count": 107,
     "metadata": {},
     "output_type": "execute_result"
    }
   ],
   "source": [
    "datas_cleaned.shape"
   ]
  },
  {
   "cell_type": "code",
   "execution_count": 108,
   "metadata": {},
   "outputs": [
    {
     "name": "stdout",
     "output_type": "stream",
     "text": [
      "<class 'pandas.core.frame.DataFrame'>\n",
      "Int64Index: 1915 entries, 0 to 1914\n",
      "Data columns (total 13 columns):\n",
      "tweet_id              1915 non-null int64\n",
      "timestamp             1915 non-null datetime64[ns]\n",
      "text                  1915 non-null object\n",
      "expanded_urls         1915 non-null object\n",
      "rating_numerator      1915 non-null object\n",
      "rating_denominator    1915 non-null object\n",
      "name                  1915 non-null object\n",
      "dog_stage             1915 non-null object\n",
      "likes_count           1915 non-null int64\n",
      "retweets_count        1915 non-null int64\n",
      "conf                  1915 non-null float64\n",
      "dog_breed             1915 non-null object\n",
      "is_dog_purebred       1915 non-null bool\n",
      "dtypes: bool(1), datetime64[ns](1), float64(1), int64(3), object(7)\n",
      "memory usage: 196.4+ KB\n"
     ]
    }
   ],
   "source": [
    "datas_cleaned.info()"
   ]
  },
  {
   "cell_type": "code",
   "execution_count": 109,
   "metadata": {
    "scrolled": true
   },
   "outputs": [
    {
     "data": {
      "text/html": [
       "<div>\n",
       "<style scoped>\n",
       "    .dataframe tbody tr th:only-of-type {\n",
       "        vertical-align: middle;\n",
       "    }\n",
       "\n",
       "    .dataframe tbody tr th {\n",
       "        vertical-align: top;\n",
       "    }\n",
       "\n",
       "    .dataframe thead th {\n",
       "        text-align: right;\n",
       "    }\n",
       "</style>\n",
       "<table border=\"1\" class=\"dataframe\">\n",
       "  <thead>\n",
       "    <tr style=\"text-align: right;\">\n",
       "      <th></th>\n",
       "      <th>tweet_id</th>\n",
       "      <th>timestamp</th>\n",
       "      <th>text</th>\n",
       "      <th>expanded_urls</th>\n",
       "      <th>rating_numerator</th>\n",
       "      <th>rating_denominator</th>\n",
       "      <th>name</th>\n",
       "      <th>dog_stage</th>\n",
       "      <th>likes_count</th>\n",
       "      <th>retweets_count</th>\n",
       "      <th>conf</th>\n",
       "      <th>dog_breed</th>\n",
       "      <th>is_dog_purebred</th>\n",
       "    </tr>\n",
       "  </thead>\n",
       "  <tbody>\n",
       "    <tr>\n",
       "      <th>1237</th>\n",
       "      <td>684195085588783105</td>\n",
       "      <td>2016-01-05 02:09:54</td>\n",
       "      <td>This is Tino. He really likes corndogs. 9/10 h...</td>\n",
       "      <td>https://twitter.com/dog_rates/status/684195085...</td>\n",
       "      <td>9</td>\n",
       "      <td>10</td>\n",
       "      <td>Tino</td>\n",
       "      <td></td>\n",
       "      <td>1757</td>\n",
       "      <td>453</td>\n",
       "      <td>0.379365</td>\n",
       "      <td>Chihuahua</td>\n",
       "      <td>True</td>\n",
       "    </tr>\n",
       "    <tr>\n",
       "      <th>1178</th>\n",
       "      <td>688179443353796608</td>\n",
       "      <td>2016-01-16 02:02:19</td>\n",
       "      <td>This is Lizzie. She's about to fist bump the l...</td>\n",
       "      <td>https://twitter.com/dog_rates/status/688179443...</td>\n",
       "      <td>10</td>\n",
       "      <td>10</td>\n",
       "      <td>Lizzie</td>\n",
       "      <td>pupper</td>\n",
       "      <td>1977</td>\n",
       "      <td>527</td>\n",
       "      <td>0.811520</td>\n",
       "      <td>sorrel</td>\n",
       "      <td>False</td>\n",
       "    </tr>\n",
       "    <tr>\n",
       "      <th>1693</th>\n",
       "      <td>670319130621435904</td>\n",
       "      <td>2015-11-27 19:11:49</td>\n",
       "      <td>AT DAWN...\\nWE RIDE\\n\\n11/10 https://t.co/QnfO...</td>\n",
       "      <td>https://twitter.com/dog_rates/status/670319130...</td>\n",
       "      <td>11</td>\n",
       "      <td>10</td>\n",
       "      <td>None</td>\n",
       "      <td></td>\n",
       "      <td>3462</td>\n",
       "      <td>1065</td>\n",
       "      <td>0.254856</td>\n",
       "      <td>Irish_terrier</td>\n",
       "      <td>True</td>\n",
       "    </tr>\n",
       "    <tr>\n",
       "      <th>625</th>\n",
       "      <td>758854675097526272</td>\n",
       "      <td>2016-07-29 02:40:28</td>\n",
       "      <td>This is Lilli Bee &amp;amp; Honey Bear. Unfortunat...</td>\n",
       "      <td>https://twitter.com/dog_rates/status/758854675...</td>\n",
       "      <td>11</td>\n",
       "      <td>10</td>\n",
       "      <td>Lilli</td>\n",
       "      <td></td>\n",
       "      <td>3313</td>\n",
       "      <td>838</td>\n",
       "      <td>0.974047</td>\n",
       "      <td>barrow</td>\n",
       "      <td>False</td>\n",
       "    </tr>\n",
       "    <tr>\n",
       "      <th>654</th>\n",
       "      <td>753655901052166144</td>\n",
       "      <td>2016-07-14 18:22:23</td>\n",
       "      <td>\"The dogtor is in hahahaha no but seriously I'...</td>\n",
       "      <td>https://twitter.com/dog_rates/status/753655901...</td>\n",
       "      <td>10</td>\n",
       "      <td>10</td>\n",
       "      <td>None</td>\n",
       "      <td></td>\n",
       "      <td>5435</td>\n",
       "      <td>1983</td>\n",
       "      <td>0.456092</td>\n",
       "      <td>miniature_pinscher</td>\n",
       "      <td>True</td>\n",
       "    </tr>\n",
       "    <tr>\n",
       "      <th>1421</th>\n",
       "      <td>675820929667219457</td>\n",
       "      <td>2015-12-12 23:34:00</td>\n",
       "      <td>Here's a handful of sleepy puppers. All look u...</td>\n",
       "      <td>https://twitter.com/dog_rates/status/675820929...</td>\n",
       "      <td>11</td>\n",
       "      <td>10</td>\n",
       "      <td>None</td>\n",
       "      <td></td>\n",
       "      <td>956</td>\n",
       "      <td>206</td>\n",
       "      <td>0.556373</td>\n",
       "      <td>basset</td>\n",
       "      <td>True</td>\n",
       "    </tr>\n",
       "    <tr>\n",
       "      <th>1664</th>\n",
       "      <td>670727704916926465</td>\n",
       "      <td>2015-11-28 22:15:21</td>\n",
       "      <td>This is Jeffrie. He's a handheld pup. Excellen...</td>\n",
       "      <td>https://twitter.com/dog_rates/status/670727704...</td>\n",
       "      <td>10</td>\n",
       "      <td>10</td>\n",
       "      <td>Jeffrie</td>\n",
       "      <td></td>\n",
       "      <td>734</td>\n",
       "      <td>312</td>\n",
       "      <td>0.368562</td>\n",
       "      <td>wood_rabbit</td>\n",
       "      <td>False</td>\n",
       "    </tr>\n",
       "    <tr>\n",
       "      <th>688</th>\n",
       "      <td>750026558547456000</td>\n",
       "      <td>2016-07-04 18:00:41</td>\n",
       "      <td>Meet Jax &amp;amp; Jil. Jil is yelling the pledge ...</td>\n",
       "      <td>https://twitter.com/dog_rates/status/750026558...</td>\n",
       "      <td>10</td>\n",
       "      <td>10</td>\n",
       "      <td>Jax</td>\n",
       "      <td></td>\n",
       "      <td>2519</td>\n",
       "      <td>717</td>\n",
       "      <td>0.258732</td>\n",
       "      <td>standard_poodle</td>\n",
       "      <td>True</td>\n",
       "    </tr>\n",
       "    <tr>\n",
       "      <th>382</th>\n",
       "      <td>805207613751304193</td>\n",
       "      <td>2016-12-04 00:30:29</td>\n",
       "      <td>This is Shooter. He's doing quite the snowy zo...</td>\n",
       "      <td>https://twitter.com/dog_rates/status/805207613...</td>\n",
       "      <td>12</td>\n",
       "      <td>10</td>\n",
       "      <td>Shooter</td>\n",
       "      <td></td>\n",
       "      <td>7456</td>\n",
       "      <td>1621</td>\n",
       "      <td>0.244705</td>\n",
       "      <td>Pembroke</td>\n",
       "      <td>True</td>\n",
       "    </tr>\n",
       "    <tr>\n",
       "      <th>1128</th>\n",
       "      <td>691675652215414786</td>\n",
       "      <td>2016-01-25 17:35:00</td>\n",
       "      <td>This is Richie and Plip. They are the best of ...</td>\n",
       "      <td>https://twitter.com/dog_rates/status/691675652...</td>\n",
       "      <td>10</td>\n",
       "      <td>10</td>\n",
       "      <td>Richie</td>\n",
       "      <td></td>\n",
       "      <td>1794</td>\n",
       "      <td>459</td>\n",
       "      <td>0.182898</td>\n",
       "      <td>Chihuahua</td>\n",
       "      <td>True</td>\n",
       "    </tr>\n",
       "    <tr>\n",
       "      <th>128</th>\n",
       "      <td>858107933456039936</td>\n",
       "      <td>2017-04-28 23:57:28</td>\n",
       "      <td>This is Wyatt. He had an interview earlier tod...</td>\n",
       "      <td>https://twitter.com/dog_rates/status/858107933...</td>\n",
       "      <td>12</td>\n",
       "      <td>10</td>\n",
       "      <td>Wyatt</td>\n",
       "      <td></td>\n",
       "      <td>14190</td>\n",
       "      <td>2532</td>\n",
       "      <td>0.863874</td>\n",
       "      <td>golden_retriever</td>\n",
       "      <td>True</td>\n",
       "    </tr>\n",
       "    <tr>\n",
       "      <th>217</th>\n",
       "      <td>835152434251116546</td>\n",
       "      <td>2017-02-24 15:40:31</td>\n",
       "      <td>When you're so blinded by your systematic plag...</td>\n",
       "      <td>https://twitter.com/dog_rates/status/835152434...</td>\n",
       "      <td>0</td>\n",
       "      <td>10</td>\n",
       "      <td>None</td>\n",
       "      <td></td>\n",
       "      <td>20903</td>\n",
       "      <td>2755</td>\n",
       "      <td>0.967066</td>\n",
       "      <td>swing</td>\n",
       "      <td>False</td>\n",
       "    </tr>\n",
       "    <tr>\n",
       "      <th>1902</th>\n",
       "      <td>666073100786774016</td>\n",
       "      <td>2015-11-16 01:59:36</td>\n",
       "      <td>Let's hope this flight isn't Malaysian (lol). ...</td>\n",
       "      <td>https://twitter.com/dog_rates/status/666073100...</td>\n",
       "      <td>10</td>\n",
       "      <td>10</td>\n",
       "      <td>None</td>\n",
       "      <td></td>\n",
       "      <td>273</td>\n",
       "      <td>130</td>\n",
       "      <td>0.260857</td>\n",
       "      <td>Walker_hound</td>\n",
       "      <td>True</td>\n",
       "    </tr>\n",
       "    <tr>\n",
       "      <th>848</th>\n",
       "      <td>720775346191278080</td>\n",
       "      <td>2016-04-15 00:46:48</td>\n",
       "      <td>This is Berkeley. He's in a predicament. 10/10...</td>\n",
       "      <td>https://twitter.com/dog_rates/status/720775346...</td>\n",
       "      <td>10</td>\n",
       "      <td>10</td>\n",
       "      <td>Berkeley</td>\n",
       "      <td></td>\n",
       "      <td>2250</td>\n",
       "      <td>564</td>\n",
       "      <td>0.489970</td>\n",
       "      <td>Newfoundland</td>\n",
       "      <td>True</td>\n",
       "    </tr>\n",
       "    <tr>\n",
       "      <th>1810</th>\n",
       "      <td>667873844930215936</td>\n",
       "      <td>2015-11-21 01:15:07</td>\n",
       "      <td>Neat dog. Lots of spikes. Always in push-up po...</td>\n",
       "      <td>https://twitter.com/dog_rates/status/667873844...</td>\n",
       "      <td>10</td>\n",
       "      <td>10</td>\n",
       "      <td>None</td>\n",
       "      <td></td>\n",
       "      <td>550</td>\n",
       "      <td>338</td>\n",
       "      <td>0.999647</td>\n",
       "      <td>common_iguana</td>\n",
       "      <td>False</td>\n",
       "    </tr>\n",
       "    <tr>\n",
       "      <th>1617</th>\n",
       "      <td>671488513339211776</td>\n",
       "      <td>2015-12-01 00:38:31</td>\n",
       "      <td>This is Julius. He's a cool dog. Carries seash...</td>\n",
       "      <td>https://twitter.com/dog_rates/status/671488513...</td>\n",
       "      <td>8</td>\n",
       "      <td>10</td>\n",
       "      <td>Julius</td>\n",
       "      <td></td>\n",
       "      <td>884</td>\n",
       "      <td>412</td>\n",
       "      <td>0.528761</td>\n",
       "      <td>hermit_crab</td>\n",
       "      <td>False</td>\n",
       "    </tr>\n",
       "    <tr>\n",
       "      <th>1708</th>\n",
       "      <td>669972011175813120</td>\n",
       "      <td>2015-11-26 20:12:29</td>\n",
       "      <td>Here we see really big dog cuddling smaller do...</td>\n",
       "      <td>https://twitter.com/dog_rates/status/669972011...</td>\n",
       "      <td>10</td>\n",
       "      <td>10</td>\n",
       "      <td>None</td>\n",
       "      <td></td>\n",
       "      <td>392</td>\n",
       "      <td>132</td>\n",
       "      <td>0.953071</td>\n",
       "      <td>teddy</td>\n",
       "      <td>False</td>\n",
       "    </tr>\n",
       "    <tr>\n",
       "      <th>1274</th>\n",
       "      <td>682032003584274432</td>\n",
       "      <td>2015-12-30 02:54:35</td>\n",
       "      <td>This is Ulysses. He likes holding hands and hi...</td>\n",
       "      <td>https://twitter.com/dog_rates/status/682032003...</td>\n",
       "      <td>11</td>\n",
       "      <td>10</td>\n",
       "      <td>Ulysses</td>\n",
       "      <td></td>\n",
       "      <td>6042</td>\n",
       "      <td>1788</td>\n",
       "      <td>0.997953</td>\n",
       "      <td>schipperke</td>\n",
       "      <td>True</td>\n",
       "    </tr>\n",
       "    <tr>\n",
       "      <th>298</th>\n",
       "      <td>821107785811234820</td>\n",
       "      <td>2017-01-16 21:32:06</td>\n",
       "      <td>Here's a doggo who looks like he's about to gi...</td>\n",
       "      <td>https://twitter.com/dog_rates/status/821107785...</td>\n",
       "      <td>11</td>\n",
       "      <td>10</td>\n",
       "      <td>None</td>\n",
       "      <td>doggo</td>\n",
       "      <td>9032</td>\n",
       "      <td>1963</td>\n",
       "      <td>0.856590</td>\n",
       "      <td>Pomeranian</td>\n",
       "      <td>True</td>\n",
       "    </tr>\n",
       "    <tr>\n",
       "      <th>1066</th>\n",
       "      <td>697616773278015490</td>\n",
       "      <td>2016-02-11 03:02:54</td>\n",
       "      <td>This pupper doubles as a hallway rug. Very rar...</td>\n",
       "      <td>https://twitter.com/dog_rates/status/697616773...</td>\n",
       "      <td>11</td>\n",
       "      <td>10</td>\n",
       "      <td>None</td>\n",
       "      <td>pupper</td>\n",
       "      <td>2890</td>\n",
       "      <td>921</td>\n",
       "      <td>0.521931</td>\n",
       "      <td>Lhasa</td>\n",
       "      <td>True</td>\n",
       "    </tr>\n",
       "    <tr>\n",
       "      <th>912</th>\n",
       "      <td>711306686208872448</td>\n",
       "      <td>2016-03-19 21:41:44</td>\n",
       "      <td>What hooligan sent in pictures w/out a dog in ...</td>\n",
       "      <td>https://twitter.com/dog_rates/status/711306686...</td>\n",
       "      <td>3</td>\n",
       "      <td>10</td>\n",
       "      <td>None</td>\n",
       "      <td></td>\n",
       "      <td>3043</td>\n",
       "      <td>676</td>\n",
       "      <td>0.280835</td>\n",
       "      <td>leatherback_turtle</td>\n",
       "      <td>False</td>\n",
       "    </tr>\n",
       "    <tr>\n",
       "      <th>52</th>\n",
       "      <td>880095782870896641</td>\n",
       "      <td>2017-06-28 16:09:20</td>\n",
       "      <td>Please don't send in photos without dogs in th...</td>\n",
       "      <td>https://twitter.com/dog_rates/status/880095782...</td>\n",
       "      <td>11</td>\n",
       "      <td>10</td>\n",
       "      <td>None</td>\n",
       "      <td></td>\n",
       "      <td>24236</td>\n",
       "      <td>3634</td>\n",
       "      <td>0.120298</td>\n",
       "      <td>miniature_pinscher</td>\n",
       "      <td>True</td>\n",
       "    </tr>\n",
       "    <tr>\n",
       "      <th>541</th>\n",
       "      <td>774314403806253056</td>\n",
       "      <td>2016-09-09 18:31:54</td>\n",
       "      <td>I WAS SENT THE ACTUAL DOG IN THE PROFILE PIC B...</td>\n",
       "      <td>https://twitter.com/dog_rates/status/774314403...</td>\n",
       "      <td>14</td>\n",
       "      <td>10</td>\n",
       "      <td>None</td>\n",
       "      <td></td>\n",
       "      <td>20469</td>\n",
       "      <td>5056</td>\n",
       "      <td>0.596045</td>\n",
       "      <td>Eskimo_dog</td>\n",
       "      <td>True</td>\n",
       "    </tr>\n",
       "    <tr>\n",
       "      <th>1069</th>\n",
       "      <td>697482927769255936</td>\n",
       "      <td>2016-02-10 18:11:03</td>\n",
       "      <td>Meet Blipson. He's a Doowap Hufflepuff. That U...</td>\n",
       "      <td>https://twitter.com/dog_rates/status/697482927...</td>\n",
       "      <td>11</td>\n",
       "      <td>10</td>\n",
       "      <td>Blipson</td>\n",
       "      <td></td>\n",
       "      <td>2231</td>\n",
       "      <td>598</td>\n",
       "      <td>0.110587</td>\n",
       "      <td>bath_towel</td>\n",
       "      <td>False</td>\n",
       "    </tr>\n",
       "    <tr>\n",
       "      <th>1491</th>\n",
       "      <td>674255168825880576</td>\n",
       "      <td>2015-12-08 15:52:13</td>\n",
       "      <td>Say hello to Bobbay. He's a marshmallow wizard...</td>\n",
       "      <td>https://twitter.com/dog_rates/status/674255168...</td>\n",
       "      <td>10</td>\n",
       "      <td>10</td>\n",
       "      <td>Bobbay</td>\n",
       "      <td></td>\n",
       "      <td>1299</td>\n",
       "      <td>464</td>\n",
       "      <td>0.615741</td>\n",
       "      <td>Eskimo_dog</td>\n",
       "      <td>True</td>\n",
       "    </tr>\n",
       "  </tbody>\n",
       "</table>\n",
       "</div>"
      ],
      "text/plain": [
       "                tweet_id           timestamp  \\\n",
       "1237  684195085588783105 2016-01-05 02:09:54   \n",
       "1178  688179443353796608 2016-01-16 02:02:19   \n",
       "1693  670319130621435904 2015-11-27 19:11:49   \n",
       "625   758854675097526272 2016-07-29 02:40:28   \n",
       "654   753655901052166144 2016-07-14 18:22:23   \n",
       "1421  675820929667219457 2015-12-12 23:34:00   \n",
       "1664  670727704916926465 2015-11-28 22:15:21   \n",
       "688   750026558547456000 2016-07-04 18:00:41   \n",
       "382   805207613751304193 2016-12-04 00:30:29   \n",
       "1128  691675652215414786 2016-01-25 17:35:00   \n",
       "128   858107933456039936 2017-04-28 23:57:28   \n",
       "217   835152434251116546 2017-02-24 15:40:31   \n",
       "1902  666073100786774016 2015-11-16 01:59:36   \n",
       "848   720775346191278080 2016-04-15 00:46:48   \n",
       "1810  667873844930215936 2015-11-21 01:15:07   \n",
       "1617  671488513339211776 2015-12-01 00:38:31   \n",
       "1708  669972011175813120 2015-11-26 20:12:29   \n",
       "1274  682032003584274432 2015-12-30 02:54:35   \n",
       "298   821107785811234820 2017-01-16 21:32:06   \n",
       "1066  697616773278015490 2016-02-11 03:02:54   \n",
       "912   711306686208872448 2016-03-19 21:41:44   \n",
       "52    880095782870896641 2017-06-28 16:09:20   \n",
       "541   774314403806253056 2016-09-09 18:31:54   \n",
       "1069  697482927769255936 2016-02-10 18:11:03   \n",
       "1491  674255168825880576 2015-12-08 15:52:13   \n",
       "\n",
       "                                                   text  \\\n",
       "1237  This is Tino. He really likes corndogs. 9/10 h...   \n",
       "1178  This is Lizzie. She's about to fist bump the l...   \n",
       "1693  AT DAWN...\\nWE RIDE\\n\\n11/10 https://t.co/QnfO...   \n",
       "625   This is Lilli Bee &amp; Honey Bear. Unfortunat...   \n",
       "654   \"The dogtor is in hahahaha no but seriously I'...   \n",
       "1421  Here's a handful of sleepy puppers. All look u...   \n",
       "1664  This is Jeffrie. He's a handheld pup. Excellen...   \n",
       "688   Meet Jax &amp; Jil. Jil is yelling the pledge ...   \n",
       "382   This is Shooter. He's doing quite the snowy zo...   \n",
       "1128  This is Richie and Plip. They are the best of ...   \n",
       "128   This is Wyatt. He had an interview earlier tod...   \n",
       "217   When you're so blinded by your systematic plag...   \n",
       "1902  Let's hope this flight isn't Malaysian (lol). ...   \n",
       "848   This is Berkeley. He's in a predicament. 10/10...   \n",
       "1810  Neat dog. Lots of spikes. Always in push-up po...   \n",
       "1617  This is Julius. He's a cool dog. Carries seash...   \n",
       "1708  Here we see really big dog cuddling smaller do...   \n",
       "1274  This is Ulysses. He likes holding hands and hi...   \n",
       "298   Here's a doggo who looks like he's about to gi...   \n",
       "1066  This pupper doubles as a hallway rug. Very rar...   \n",
       "912   What hooligan sent in pictures w/out a dog in ...   \n",
       "52    Please don't send in photos without dogs in th...   \n",
       "541   I WAS SENT THE ACTUAL DOG IN THE PROFILE PIC B...   \n",
       "1069  Meet Blipson. He's a Doowap Hufflepuff. That U...   \n",
       "1491  Say hello to Bobbay. He's a marshmallow wizard...   \n",
       "\n",
       "                                          expanded_urls rating_numerator  \\\n",
       "1237  https://twitter.com/dog_rates/status/684195085...                9   \n",
       "1178  https://twitter.com/dog_rates/status/688179443...               10   \n",
       "1693  https://twitter.com/dog_rates/status/670319130...               11   \n",
       "625   https://twitter.com/dog_rates/status/758854675...               11   \n",
       "654   https://twitter.com/dog_rates/status/753655901...               10   \n",
       "1421  https://twitter.com/dog_rates/status/675820929...               11   \n",
       "1664  https://twitter.com/dog_rates/status/670727704...               10   \n",
       "688   https://twitter.com/dog_rates/status/750026558...               10   \n",
       "382   https://twitter.com/dog_rates/status/805207613...               12   \n",
       "1128  https://twitter.com/dog_rates/status/691675652...               10   \n",
       "128   https://twitter.com/dog_rates/status/858107933...               12   \n",
       "217   https://twitter.com/dog_rates/status/835152434...                0   \n",
       "1902  https://twitter.com/dog_rates/status/666073100...               10   \n",
       "848   https://twitter.com/dog_rates/status/720775346...               10   \n",
       "1810  https://twitter.com/dog_rates/status/667873844...               10   \n",
       "1617  https://twitter.com/dog_rates/status/671488513...                8   \n",
       "1708  https://twitter.com/dog_rates/status/669972011...               10   \n",
       "1274  https://twitter.com/dog_rates/status/682032003...               11   \n",
       "298   https://twitter.com/dog_rates/status/821107785...               11   \n",
       "1066  https://twitter.com/dog_rates/status/697616773...               11   \n",
       "912   https://twitter.com/dog_rates/status/711306686...                3   \n",
       "52    https://twitter.com/dog_rates/status/880095782...               11   \n",
       "541   https://twitter.com/dog_rates/status/774314403...               14   \n",
       "1069  https://twitter.com/dog_rates/status/697482927...               11   \n",
       "1491  https://twitter.com/dog_rates/status/674255168...               10   \n",
       "\n",
       "     rating_denominator      name dog_stage  likes_count  retweets_count  \\\n",
       "1237                 10      Tino                   1757             453   \n",
       "1178                 10    Lizzie    pupper         1977             527   \n",
       "1693                 10      None                   3462            1065   \n",
       "625                  10     Lilli                   3313             838   \n",
       "654                  10      None                   5435            1983   \n",
       "1421                 10      None                    956             206   \n",
       "1664                 10   Jeffrie                    734             312   \n",
       "688                  10       Jax                   2519             717   \n",
       "382                  10   Shooter                   7456            1621   \n",
       "1128                 10    Richie                   1794             459   \n",
       "128                  10     Wyatt                  14190            2532   \n",
       "217                  10      None                  20903            2755   \n",
       "1902                 10      None                    273             130   \n",
       "848                  10  Berkeley                   2250             564   \n",
       "1810                 10      None                    550             338   \n",
       "1617                 10    Julius                    884             412   \n",
       "1708                 10      None                    392             132   \n",
       "1274                 10   Ulysses                   6042            1788   \n",
       "298                  10      None     doggo         9032            1963   \n",
       "1066                 10      None    pupper         2890             921   \n",
       "912                  10      None                   3043             676   \n",
       "52                   10      None                  24236            3634   \n",
       "541                  10      None                  20469            5056   \n",
       "1069                 10   Blipson                   2231             598   \n",
       "1491                 10    Bobbay                   1299             464   \n",
       "\n",
       "          conf           dog_breed  is_dog_purebred  \n",
       "1237  0.379365           Chihuahua             True  \n",
       "1178  0.811520              sorrel            False  \n",
       "1693  0.254856       Irish_terrier             True  \n",
       "625   0.974047              barrow            False  \n",
       "654   0.456092  miniature_pinscher             True  \n",
       "1421  0.556373              basset             True  \n",
       "1664  0.368562         wood_rabbit            False  \n",
       "688   0.258732     standard_poodle             True  \n",
       "382   0.244705            Pembroke             True  \n",
       "1128  0.182898           Chihuahua             True  \n",
       "128   0.863874    golden_retriever             True  \n",
       "217   0.967066               swing            False  \n",
       "1902  0.260857        Walker_hound             True  \n",
       "848   0.489970        Newfoundland             True  \n",
       "1810  0.999647       common_iguana            False  \n",
       "1617  0.528761         hermit_crab            False  \n",
       "1708  0.953071               teddy            False  \n",
       "1274  0.997953          schipperke             True  \n",
       "298   0.856590          Pomeranian             True  \n",
       "1066  0.521931               Lhasa             True  \n",
       "912   0.280835  leatherback_turtle            False  \n",
       "52    0.120298  miniature_pinscher             True  \n",
       "541   0.596045          Eskimo_dog             True  \n",
       "1069  0.110587          bath_towel            False  \n",
       "1491  0.615741          Eskimo_dog             True  "
      ]
     },
     "execution_count": 109,
     "metadata": {},
     "output_type": "execute_result"
    }
   ],
   "source": [
    "datas_cleaned.sample(25)"
   ]
  },
  {
   "cell_type": "markdown",
   "metadata": {},
   "source": [
    "## Storing Data\n",
    "Save gathered, assessed, and cleaned master dataset to a CSV file named \"twitter_archive_master.csv\"."
   ]
  },
  {
   "cell_type": "code",
   "execution_count": 110,
   "metadata": {},
   "outputs": [],
   "source": [
    "datas_cleaned.to_csv(\"twitter_archive_master.csv\")"
   ]
  },
  {
   "cell_type": "markdown",
   "metadata": {},
   "source": [
    "## Analyzing and Visualizing Data\n",
    "In this section, analyze and visualize your wrangled data. You must produce at least **three (3) insights and one (1) visualization.**"
   ]
  },
  {
   "cell_type": "code",
   "execution_count": 111,
   "metadata": {},
   "outputs": [
    {
     "data": {
      "text/plain": [
       "dog_stage\n",
       "            7040.308696\n",
       "doggo      17145.698630\n",
       "floofer    11177.857143\n",
       "pupper      6181.147783\n",
       "puppo      19504.954545\n",
       "Name: likes_count, dtype: float64"
      ]
     },
     "execution_count": 111,
     "metadata": {},
     "output_type": "execute_result"
    }
   ],
   "source": [
    "# Let's see the relation between the number of likes and the dog_stage\n",
    "\n",
    "datas_cleaned.groupby('dog_stage')['likes_count'].mean()"
   ]
  },
  {
   "cell_type": "code",
   "execution_count": 126,
   "metadata": {},
   "outputs": [
    {
     "data": {
      "text/plain": [
       "True     1412\n",
       "False     503\n",
       "Name: is_dog_purebred, dtype: int64"
      ]
     },
     "execution_count": 126,
     "metadata": {},
     "output_type": "execute_result"
    }
   ],
   "source": [
    "# Let's see the proportion of purebred dogs\n",
    "datas_cleaned['is_dog_purebred'].value_counts()"
   ]
  },
  {
   "cell_type": "code",
   "execution_count": 130,
   "metadata": {},
   "outputs": [
    {
     "data": {
      "text/html": [
       "<div>\n",
       "<style scoped>\n",
       "    .dataframe tbody tr th:only-of-type {\n",
       "        vertical-align: middle;\n",
       "    }\n",
       "\n",
       "    .dataframe tbody tr th {\n",
       "        vertical-align: top;\n",
       "    }\n",
       "\n",
       "    .dataframe thead th {\n",
       "        text-align: right;\n",
       "    }\n",
       "</style>\n",
       "<table border=\"1\" class=\"dataframe\">\n",
       "  <thead>\n",
       "    <tr style=\"text-align: right;\">\n",
       "      <th></th>\n",
       "      <th>likes_count</th>\n",
       "      <th>retweets_count</th>\n",
       "    </tr>\n",
       "    <tr>\n",
       "      <th>is_dog_purebred</th>\n",
       "      <th></th>\n",
       "      <th></th>\n",
       "    </tr>\n",
       "  </thead>\n",
       "  <tbody>\n",
       "    <tr>\n",
       "      <th>False</th>\n",
       "      <td>6572.240557</td>\n",
       "      <td>2117.673956</td>\n",
       "    </tr>\n",
       "    <tr>\n",
       "      <th>True</th>\n",
       "      <td>7820.696176</td>\n",
       "      <td>2201.979462</td>\n",
       "    </tr>\n",
       "  </tbody>\n",
       "</table>\n",
       "</div>"
      ],
      "text/plain": [
       "                 likes_count  retweets_count\n",
       "is_dog_purebred                             \n",
       "False            6572.240557     2117.673956\n",
       "True             7820.696176     2201.979462"
      ]
     },
     "execution_count": 130,
     "metadata": {},
     "output_type": "execute_result"
    }
   ],
   "source": [
    "# Let's see the relation between the number of likes and the number of retweets and the type of dog : purebred or not\n",
    "\n",
    "datas_cleaned.groupby('is_dog_purebred')['likes_count','retweets_count'].mean()"
   ]
  },
  {
   "cell_type": "markdown",
   "metadata": {},
   "source": [
    "### Insights:\n",
    "\n",
    "1. The puppo and the doggo dogs are more liked . People like then, more doggo dogs and dogs which are on the way to become doggo since puppo is a transitional phase between pupper dand doggo\n",
    "\n",
    "2. There are more purebred dogs in this dataset . Since purebred dogs are more represented, We rate dogs have surely used to tweet more about purebred dogs\n",
    "\n",
    "3. Purebred dogs are more liked and retweeted. However the difference is not so big..."
   ]
  },
  {
   "cell_type": "markdown",
   "metadata": {
    "collapsed": true
   },
   "source": [
    "### Visualization"
   ]
  },
  {
   "cell_type": "code",
   "execution_count": 151,
   "metadata": {
    "scrolled": true
   },
   "outputs": [],
   "source": [
    "# Let's visualize Representation of purebred and non-purebred dogs\n",
    "\n",
    "alt_datas_cleaned = datas_cleaned.is_dog_purebred.apply(lambda x : \"Purebred\" if x==True else \"No purebred\")"
   ]
  },
  {
   "cell_type": "code",
   "execution_count": 152,
   "metadata": {},
   "outputs": [
    {
     "data": {
      "image/png": "[encoded data removed]",
      "text/plain": [
       "<matplotlib.figure.Figure at 0x7f3a0d2aae10>"
      ]
     },
     "metadata": {},
     "output_type": "display_data"
    }
   ],
   "source": [
    "%matplotlib inline\n",
    "alt_datas_cleaned.value_counts().plot(autopct='%1.1f%%', shadow=True, explode=[0.05, 0.05],use_index = False, kind='pie', figsize=(8, 8),legend = True, title = \"Representation of purebred and non-purebred dogs\", label = \"\");"
   ]
  },
  {
   "cell_type": "code",
   "execution_count": null,
   "metadata": {},
   "outputs": [],
   "source": [
    "# Let's visualize the mean of likes per dogs stage"
   ]
  },
  {
   "cell_type": "code",
   "execution_count": 168,
   "metadata": {},
   "outputs": [
    {
     "data": {
      "image/png": "[encoded data removed]",
      "text/plain": [
       "<matplotlib.figure.Figure at 0x7f3a0ce59908>"
      ]
     },
     "metadata": {
      "needs_background": "light"
     },
     "output_type": "display_data"
    }
   ],
   "source": [
    "datas_cleaned.groupby('dog_stage')['likes_count'].mean().plot(kind = 'bar', figsize = (8,8), title = \"Mean of likes per dog stage\");"
   ]
  }
 ],
 "metadata": {
  "extensions": {
   "jupyter_dashboards": {
    "activeView": "report_default",
    "version": 1,
    "views": {
     "grid_default": {
      "cellMargin": 10,
      "defaultCellHeight": 20,
      "maxColumns": 12,
      "name": "grid",
      "type": "grid"
     },
     "report_default": {
      "name": "report",
      "type": "report"
     }
    }
   }
  },
  "kernelspec": {
   "display_name": "Python 3",
   "language": "python",
   "name": "python3"
  },
  "language_info": {
   "codemirror_mode": {
    "name": "ipython",
    "version": 3
   },
   "file_extension": ".py",
   "mimetype": "text/x-python",
   "name": "python",
   "nbconvert_exporter": "python",
   "pygments_lexer": "ipython3",
   "version": "3.6.3"
  }
 },
 "nbformat": 4,
 "nbformat_minor": 2
}
